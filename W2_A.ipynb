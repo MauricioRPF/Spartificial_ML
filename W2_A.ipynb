{
  "nbformat": 4,
  "nbformat_minor": 0,
  "metadata": {
    "colab": {
      "provenance": []
    },
    "kernelspec": {
      "name": "python3",
      "display_name": "Python 3"
    },
    "language_info": {
      "name": "python"
    }
  },
  "cells": [
    {
      "cell_type": "markdown",
      "source": [
        "# Assignment 2\n",
        "\n",
        "### Points:- 25"
      ],
      "metadata": {
        "id": "j73qAV8YcpJE"
      }
    },
    {
      "cell_type": "code",
      "source": [
        "# Write your email-id below within the given quotation marks\n",
        "\"\""
      ],
      "metadata": {
        "id": "xGrDELK5iZiL"
      },
      "execution_count": null,
      "outputs": []
    },
    {
      "cell_type": "markdown",
      "source": [
        "---\n",
        "**Rules:-**\n",
        "* All the rules of A1 are applied in this assignment as well.\n",
        "---"
      ],
      "metadata": {
        "id": "YDkpubKcjkt-"
      }
    },
    {
      "cell_type": "markdown",
      "source": [
        "#q1\n",
        "\n",
        "**Q1) [3 Points]**\n",
        "\n",
        "**1)** Dowload [this image](https://drive.google.com/file/d/132oy8RPWP7QsSe0o4WwB_hbSnICeVq7D/view?usp=sharing) in your system and upload it to Google Colab.                          \n",
        "**2)** Using `skimage` library create the numpy array of this uploaded image and save it in a varibale called `img`.           \n",
        "**3)** Display this image using `matplotlib` library.\n"
      ],
      "metadata": {
        "id": "qYktDAqCctAm"
      }
    },
    {
      "cell_type": "code",
      "execution_count": null,
      "metadata": {
        "id": "bixc4zk-cftj"
      },
      "outputs": [],
      "source": [
        "#a1\n",
        "\n",
        "# Import ALL the libraries that you will use in this code cell here\n",
        "\n",
        "\n",
        "# Store the image array in a variable called img\n",
        "img =\n",
        "\n",
        "\n",
        "# Display the image\n",
        "\n",
        "\n"
      ]
    },
    {
      "cell_type": "markdown",
      "source": [
        "#q2\n",
        "\n",
        "**Q2) [5 Points]**\n",
        "\n",
        "All of these questions are from the same data used in **Q1**.\n",
        "\n",
        "**1)** Check the data type of the image.           \n",
        "**2)** What do you understand by this data type?          \n",
        "**3)** What is the shape of this image? Do you notice something unusual?         \n",
        "**4)** Explain different channels of this image.\n",
        "\n"
      ],
      "metadata": {
        "id": "_TN8TR6yeMJ2"
      }
    },
    {
      "cell_type": "code",
      "source": [
        "#a2\n",
        "\n",
        "# Print your all the answers here in the respective variable\n",
        "\n",
        "one = ''' '''\n",
        "\n",
        "two = ''' '''\n",
        "\n",
        "three = ''' '''\n",
        "\n",
        "four = ''' '''"
      ],
      "metadata": {
        "id": "0Vxzbcz0elBw"
      },
      "execution_count": null,
      "outputs": []
    },
    {
      "cell_type": "markdown",
      "source": [
        "#q3\n",
        "\n",
        "**Q3) [15 Points]**\n",
        "\n",
        "This question is also connected to the same image in **Q1**.\n",
        "\n",
        "* This image is a combination of ten different images.\n",
        "* Separate all ten images using numpy and show all of them using subplot of (2x5).\n",
        "* You are suppose to use for loop to automate this process of seperating the images and plotting them via subplot.\n",
        "* Note that the size and shape of individual images should remain the same.\n",
        "* Title of each image should include at least the image shape.\n",
        "* Turn off axis of each of these images.\n",
        "* Customize this output according to your satisfaction.\n",
        "* Should have proper spacing in between each axes."
      ],
      "metadata": {
        "id": "s3Z3g8WBfkeS"
      }
    },
    {
      "cell_type": "code",
      "source": [
        "#a3\n",
        "\n",
        "# Import all the libraries you will need for this question\n",
        "\n",
        "\n",
        "# First we are converting our four channels image into three channels image (easy to use and no extra complexities)\n",
        "'''Do not make any change in this below line of code. No need to re-import the image. You can use img from Q1.'''\n",
        "img_arr = img[:, :, :3]\n",
        "\n",
        "\n",
        "# Start your code here (hint:- use the concept of array slicing)\n",
        "\n",
        "\n",
        "\n",
        "\n",
        "\n",
        "\n",
        "\n",
        "\n",
        "\n"
      ],
      "metadata": {
        "id": "BvFSKFRCf7LS"
      },
      "execution_count": null,
      "outputs": []
    },
    {
      "cell_type": "markdown",
      "source": [
        "#q4\n",
        "\n",
        "**Q4) [2 Points]**       \n",
        "\n",
        "Which part of Astronomy excite you the most and why?"
      ],
      "metadata": {
        "id": "vYBMZwAzimZ8"
      }
    },
    {
      "cell_type": "code",
      "source": [
        "#a4\n",
        "\n",
        "# Write your answer here --> Make sure to use multiple lines in your answer if the answer is long\n",
        "answer = ''' '''\n"
      ],
      "metadata": {
        "id": "3UOM57NGiztS"
      },
      "execution_count": 1,
      "outputs": []
    },
    {
      "cell_type": "markdown",
      "source": [
        "### AMAZING!!! You are now done with 2 weeks of ML4A.\n",
        "\n",
        "#### Submit this assignment via google form on Slack.\n",
        "\n",
        "**Content coming up next:-**           \n",
        "* Introduction to Machine Learning\n",
        "* Linear Regression\n",
        "* Logistic Regression"
      ],
      "metadata": {
        "id": "J2LzDlnDi8_m"
      }
    },
    {
      "cell_type": "markdown",
      "source": [
        "---\n",
        "\n",
        "# THE END"
      ],
      "metadata": {
        "id": "eHpWNBAUj_Kx"
      }
    }
  ]
}