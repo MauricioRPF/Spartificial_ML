{
  "metadata": {
    "kernelspec": {
      "name": "python3",
      "display_name": "Python 3"
    },
    "language_info": {
      "name": "python",
      "version": "3.7.12",
      "mimetype": "text/x-python",
      "codemirror_mode": {
        "name": "ipython",
        "version": 3
      },
      "pygments_lexer": "ipython3",
      "nbconvert_exporter": "python",
      "file_extension": ".py"
    },
    "colab": {
      "provenance": []
    }
  },
  "nbformat_minor": 5,
  "nbformat": 4,
  "cells": [
    {
      "cell_type": "markdown",
      "source": [
        "# <center> Predicting Star Size | Linear Regression\n",
        "---\n",
        "\n",
        "<center> <img src = 'https://drive.google.com/uc?id=1Wr3rLlNCBU5qjr1s7o1l-O3DjgLDZIJi' width = 100%>\n",
        "\n",
        "---\n",
        "\n",
        "## <center> Linear Regression from Scratch\n",
        "\n",
        "---\n",
        "    \n"
      ],
      "metadata": {
        "id": "5hnR8DNhlCau"
      },
      "id": "5hnR8DNhlCau"
    },
    {
      "cell_type": "markdown",
      "source": [
        "**Recall the following topics before we start today's session:-**        \n",
        "**1)** Supervised Learning - When we train the ML algorithms with labeled data.       \n",
        "**2)** Forward Propagation - Consists of two steps which are computing the predicted output and the cost function.         \n",
        "**3)** Backpropagation - Consists of optimization algorithm which will be used to update the model parameters.         \n",
        "**4)** Training - For each epoch we calculate the loss and then update the model parameters.            \n",
        "**5)** Testing - Using new inputs whose respective outputs if we know, we can check how our model is performing.         \n",
        "\n",
        "    \n",
        "**Python Libraires that we need today:-**           \n",
        "**1)** NumPy       \n",
        "**2)** Matplotlib        \n",
        "**3)** Pandas\n",
        "    \n",
        "                                "
      ],
      "metadata": {
        "id": "38Zzj8-CVsDU"
      },
      "id": "38Zzj8-CVsDU"
    },
    {
      "cell_type": "markdown",
      "source": [
        "## Generating the Data for Linear Regression\n"
      ],
      "metadata": {
        "id": "usi6txxdlCax"
      },
      "id": "usi6txxdlCax"
    },
    {
      "cell_type": "code",
      "source": [
        "# Importing Libraries (numpy and pyplot)\n",
        "import numpy as np\n",
        "import matplotlib.pyplot as plt\n",
        "import pandas as pd"
      ],
      "metadata": {
        "id": "wqogQ0zflCay",
        "execution": {
          "iopub.status.busy": "2022-12-14T11:21:07.677357Z",
          "iopub.execute_input": "2022-12-14T11:21:07.677891Z",
          "iopub.status.idle": "2022-12-14T11:21:07.707082Z",
          "shell.execute_reply.started": "2022-12-14T11:21:07.677771Z",
          "shell.execute_reply": "2022-12-14T11:21:07.706177Z"
        },
        "trusted": true
      },
      "execution_count": 1,
      "outputs": [],
      "id": "wqogQ0zflCay"
    },
    {
      "cell_type": "code",
      "source": [
        "# Use seed value of 100 so that everyone gets the same output!\n",
        "\n",
        "\n",
        "# Generating Randomized dataset --> X_train and y_train\n",
        "'''\n",
        "X_train = 3*random numbers between 0 and 1 of shape (100, 1)\n",
        "y_train = 9 + 2*X_train + noise, where noise is a random number between 0 and 1 and its shape is (100, 1)\n",
        "The noise will allow to have some randomness in output instead of it simply being in a straight line\n",
        "\n",
        "Our goal of this session is to train ML model --> Linear Regression to predict the values of 9 and 2 in y_train\n",
        "In reality, we don't have y_train formula. Hence, we make ML model to predict what should be the formula!\n",
        "'''\n",
        "x_train = 3*np.random.random(size=(100,1))\n",
        "noise = np.random.random((100,1))\n",
        "y_train = 9 + 2*x_train + noise\n",
        "\n",
        "# Scatter plot --> Figsize is (8,6), Xlabel is brightness, ylabel is Size, add title\n",
        "\n",
        "plt.figure(figsize=(8,6))\n",
        "plt.scatter(x_train,y_train,color='m')\n",
        "plt.title('Scatter Plot')\n",
        "plt.xlabel('Brightness')\n",
        "plt.ylabel('Size')\n",
        "plt.show()\n",
        "\n"
      ],
      "metadata": {
        "id": "8135c1d1",
        "execution": {
          "iopub.status.busy": "2022-12-14T11:21:07.709092Z",
          "iopub.execute_input": "2022-12-14T11:21:07.710336Z",
          "iopub.status.idle": "2022-12-14T11:21:07.991112Z",
          "shell.execute_reply.started": "2022-12-14T11:21:07.710288Z",
          "shell.execute_reply": "2022-12-14T11:21:07.990254Z"
        },
        "trusted": true,
        "outputId": "09b8f814-6e0c-4611-9d03-29b444cff988",
        "colab": {
          "base_uri": "https://localhost:8080/",
          "height": 564
        }
      },
      "execution_count": 17,
      "outputs": [
        {
          "output_type": "display_data",
          "data": {
            "text/plain": [
              "<Figure size 800x600 with 1 Axes>"
            ],
            "image/png": "[encoded data removed]"
          },
          "metadata": {}
        }
      ],
      "id": "8135c1d1"
    },
    {
      "cell_type": "code",
      "source": [
        "# Print first 5 values in X_train and y_train\n",
        "print(x_train[:5])\n",
        "print()\n",
        "print(y_train[:5])\n",
        "\n"
      ],
      "metadata": {
        "id": "EjiGClgOENjn",
        "execution": {
          "iopub.status.busy": "2022-12-14T11:21:07.992361Z",
          "iopub.execute_input": "2022-12-14T11:21:07.993206Z",
          "iopub.status.idle": "2022-12-14T11:21:07.999926Z",
          "shell.execute_reply.started": "2022-12-14T11:21:07.993170Z",
          "shell.execute_reply": "2022-12-14T11:21:07.998527Z"
        },
        "trusted": true,
        "outputId": "686fb61c-371b-4d24-985a-1fd31afe15de",
        "colab": {
          "base_uri": "https://localhost:8080/"
        }
      },
      "execution_count": 18,
      "outputs": [
        {
          "output_type": "stream",
          "name": "stdout",
          "text": [
            "[[2.03830493]\n",
            " [2.46244583]\n",
            " [0.6105629 ]\n",
            " [2.49279797]\n",
            " [0.315371  ]]\n",
            "\n",
            "[[13.83913044]\n",
            " [14.68421789]\n",
            " [10.92929405]\n",
            " [14.89522263]\n",
            " [ 9.94561704]]\n"
          ]
        }
      ],
      "id": "EjiGClgOENjn"
    },
    {
      "cell_type": "code",
      "source": [
        "# Check what happens if you remove the noise! --> Remove noise from the y_train and plot again\n",
        "noiseless_y_train = 9 + 2*x_train\n",
        "\n",
        "plt.scatter(x_train,noiseless_y_train,color='m')\n",
        "plt.title('Scatter Plot')\n",
        "plt.show()"
      ],
      "metadata": {
        "id": "hB1w0wKew-9p",
        "outputId": "fbef1932-1daf-4beb-9f79-1b35004e06c2",
        "colab": {
          "base_uri": "https://localhost:8080/",
          "height": 452
        }
      },
      "id": "hB1w0wKew-9p",
      "execution_count": null,
      "outputs": [
        {
          "output_type": "display_data",
          "data": {
            "text/plain": [
              "<Figure size 640x480 with 1 Axes>"
            ],
            "image/png": "[encoded data removed]"
          },
          "metadata": {}
        }
      ]
    },
    {
      "cell_type": "markdown",
      "source": [
        "## Model Parameters and Hyperparameters\n",
        "\n",
        "Remember that instead of using gradient and y-intercept, we will be using the actual model parameters for ML algorithms - Weight and Bias!"
      ],
      "metadata": {
        "id": "C3qy8Ov6lCa0"
      },
      "id": "C3qy8Ov6lCa0"
    },
    {
      "cell_type": "code",
      "source": [
        "# Initialise the weight (W) and bias (b) to 0\n",
        "W =0\n",
        "b =0\n",
        "\n",
        "# Hyperparameters --> Choose approproate learning_rate (0.01)\n",
        "learning_rate = 0.01\n"
      ],
      "metadata": {
        "id": "22397f92",
        "execution": {
          "iopub.status.busy": "2022-12-14T11:21:08.002586Z",
          "iopub.execute_input": "2022-12-14T11:21:08.003031Z",
          "iopub.status.idle": "2022-12-14T11:21:08.012646Z",
          "shell.execute_reply.started": "2022-12-14T11:21:08.002998Z",
          "shell.execute_reply": "2022-12-14T11:21:08.011288Z"
        },
        "trusted": true
      },
      "execution_count": 3,
      "outputs": [],
      "id": "22397f92"
    },
    {
      "cell_type": "markdown",
      "source": [
        "<img src = \"https://drive.google.com/uc?id=1mFaXv4XF-_b-jyP_MK2vfgYfB2dVd4RZ\">\n",
        "\n",
        "## Computing equations for the forward propagation"
      ],
      "metadata": {
        "id": "uXi2j5fVlCa1"
      },
      "id": "uXi2j5fVlCa1"
    },
    {
      "cell_type": "code",
      "source": [
        "# Create a function for Predicted Output\n",
        "def predict(X, W, b):\n",
        "    '''\n",
        "    ------Parameters------\n",
        "\n",
        "    X - Inputs\n",
        "    W - Weight\n",
        "    b - Bias\n",
        "\n",
        "    Returns - Predicted output\n",
        "    '''\n",
        "    y_pred = W*X + b\n",
        "\n",
        "    return y_pred\n",
        "\n",
        "# MSE cost function\n",
        "def cost_function(X, y, W, b):\n",
        "    '''\n",
        "    y - target values / true values\n",
        "    Returns - MSE\n",
        "    '''\n",
        "    error = y - predict(X, W, b)\n",
        "    error_squared = error**2\n",
        "    cost = np.mean(error_squared)\n",
        "\n",
        "    return cost"
      ],
      "metadata": {
        "id": "f6643906",
        "execution": {
          "iopub.status.busy": "2022-12-14T11:21:08.026493Z",
          "iopub.execute_input": "2022-12-14T11:21:08.026885Z",
          "iopub.status.idle": "2022-12-14T11:21:08.036996Z",
          "shell.execute_reply.started": "2022-12-14T11:21:08.026844Z",
          "shell.execute_reply": "2022-12-14T11:21:08.035848Z"
        },
        "trusted": true
      },
      "execution_count": 29,
      "outputs": [],
      "id": "f6643906"
    },
    {
      "cell_type": "code",
      "source": [
        "# Testing functions\n",
        "cost_function(x_train, y_train, W, b)"
      ],
      "metadata": {
        "id": "hSzA8WRncTwJ",
        "outputId": "de23d165-a9ab-4538-a587-b05f4253479d",
        "colab": {
          "base_uri": "https://localhost:8080/"
        }
      },
      "id": "hSzA8WRncTwJ",
      "execution_count": 30,
      "outputs": [
        {
          "output_type": "execute_result",
          "data": {
            "text/plain": [
              "160.05638017215915"
            ]
          },
          "metadata": {},
          "execution_count": 30
        }
      ]
    },
    {
      "cell_type": "markdown",
      "source": [
        "<img src = 'https://drive.google.com/uc?id=1ZlXFrHr4ix4w2ND9e1QMZqaMuplh-PTh'>\n",
        "\n",
        "## Computing equations for the backpropagation\n"
      ],
      "metadata": {
        "id": "1U2-9DjSXbT1"
      },
      "id": "1U2-9DjSXbT1"
    },
    {
      "cell_type": "code",
      "source": [
        "def update_params(X, y, W, b, learning_rate):\n",
        "    '''\n",
        "    This function computes all the equations needed for the backpropagation in Linear Regression\n",
        "\n",
        "    ---------\n",
        "    learning_rate: alpha value for gradient descent\n",
        "\n",
        "    ---------\n",
        "\n",
        "    W - Updated Weight\n",
        "    b - Updated Bias\n",
        "\n",
        "    '''\n",
        "\n",
        "    # Prediction and Error term\n",
        "    y_pred = predict(X, W, b)\n",
        "    error = y - y_pred\n",
        "\n",
        "    # Compute Partial Derivatives\n",
        "    dLdW = np.mean(-2 * X * error)\n",
        "    dLdb = np.mean(-2 * error)\n",
        "\n",
        "    # Apply Gradient Descent\n",
        "    W = W - learning_rate * dLdW\n",
        "    b = b - learning_rate * dLdb\n",
        "\n",
        "    return W,b"
      ],
      "metadata": {
        "id": "ba1cd681",
        "execution": {
          "iopub.status.busy": "2022-12-14T11:21:08.038740Z",
          "iopub.execute_input": "2022-12-14T11:21:08.039166Z",
          "iopub.status.idle": "2022-12-14T11:21:08.049570Z",
          "shell.execute_reply.started": "2022-12-14T11:21:08.039130Z",
          "shell.execute_reply": "2022-12-14T11:21:08.048520Z"
        },
        "trusted": true
      },
      "execution_count": 31,
      "outputs": [],
      "id": "ba1cd681"
    },
    {
      "cell_type": "code",
      "source": [
        "update_params(x_train, y_train, W, b, learning_rate)"
      ],
      "metadata": {
        "id": "kFy0rDaBNT6d",
        "outputId": "64776684-580f-426e-e446-4d27e1f3e62f",
        "colab": {
          "base_uri": "https://localhost:8080/"
        }
      },
      "id": "kFy0rDaBNT6d",
      "execution_count": 32,
      "outputs": [
        {
          "output_type": "execute_result",
          "data": {
            "text/plain": [
              "(0.4029149139879573, 0.25058325359799777)"
            ]
          },
          "metadata": {},
          "execution_count": 32
        }
      ]
    },
    {
      "cell_type": "code",
      "source": [
        "costs = [100, 60, 50, 50, 50.010, 49.999 ]"
      ],
      "metadata": {
        "id": "5pScEKH8Dzj_"
      },
      "id": "5pScEKH8Dzj_",
      "execution_count": 6,
      "outputs": []
    },
    {
      "cell_type": "code",
      "source": [
        "# Epoch by epoch train the linear regression to get the best value for W and b\n",
        "def train(X, y, W, b, learning_rate, tol=1e-13, verbose=False):\n",
        "    '''\n",
        "    This function trains the linear regression epoch by epoch\n",
        "    tol - Threshold for when the training should stop based on convergence\n",
        "    verbose - Display the training if it is set to True\n",
        "    '''\n",
        "\n",
        "    # Empty Lists to store costs and updated parameters\n",
        "    weights = [W]\n",
        "    biases = [b]\n",
        "    costs = []\n",
        "\n",
        "    # Create a counter to track the iterations/epochs\n",
        "    ct = 0\n",
        "    while True:\n",
        "      cost = cost_function(X, y, W, b)                    # Calculate the cost\n",
        "      costs.append(cost)                                               # Append it to costs list\n",
        "\n",
        "      # Check if there are at least 2 values in costs list, and check the convergence criteria\n",
        "      if len(costs) > 2 and np.abs(costs[-1] - costs[-2]) < tol:\n",
        "          break # if converged break the loop\n",
        "\n",
        "      # If not converged, update the model params\n",
        "      W, b = update_params(X, y, W, b, learning_rate)\n",
        "      weights.append(W)\n",
        "      biases.append(b)\n",
        "\n",
        "      # If verbose is set to True, print the history of training after 100 epochs\n",
        "      if verbose and (ct+1)%100 == 0:\n",
        "        print(f'After {ct+1} epochs:- W = {W}, b = {b}, cost = {cost}')\n",
        "\n",
        "      # Update the counter\n",
        "      ct += 1 # ct = ct + 1\n",
        "\n",
        "    return weights, biases, costs, ct\n",
        "\n",
        "\n",
        "    # Predict\n",
        "    # Cost Value\n",
        "    # If cost not converging --> then update params --> else stop trainig\n",
        "    # Display the training history after every 100 iterations\n"
      ],
      "metadata": {
        "id": "bf2d8e30",
        "execution": {
          "iopub.status.busy": "2022-12-14T11:21:08.051429Z",
          "iopub.execute_input": "2022-12-14T11:21:08.052106Z",
          "iopub.status.idle": "2022-12-14T11:21:08.065419Z",
          "shell.execute_reply.started": "2022-12-14T11:21:08.052069Z",
          "shell.execute_reply": "2022-12-14T11:21:08.064089Z"
        },
        "trusted": true
      },
      "execution_count": 35,
      "outputs": [],
      "id": "bf2d8e30"
    },
    {
      "cell_type": "code",
      "source": [
        "# Train the linear regression model\n",
        "weights, biases, costs, iteration_count = train(x_train, y_train, W, b, learning_rate, verbose=True)"
      ],
      "metadata": {
        "id": "11396b5c",
        "execution": {
          "iopub.status.busy": "2022-12-14T11:21:08.069104Z",
          "iopub.execute_input": "2022-12-14T11:21:08.070125Z",
          "iopub.status.idle": "2022-12-14T11:21:08.386822Z",
          "shell.execute_reply.started": "2022-12-14T11:21:08.070085Z",
          "shell.execute_reply": "2022-12-14T11:21:08.385549Z"
        },
        "trusted": true,
        "outputId": "87e0f4ce-add5-4ccc-98a9-409f9a5e0a1d",
        "colab": {
          "base_uri": "https://localhost:8080/"
        }
      },
      "execution_count": 36,
      "outputs": [
        {
          "output_type": "stream",
          "name": "stdout",
          "text": [
            "After 100 epochs:- W = 4.358866061770989, b = 5.155062388182027, cost = 5.147861705034924\n",
            "After 200 epochs:- W = 3.576499984711806, b = 6.616393498849179, cost = 2.346491286388481\n",
            "After 300 epochs:- W = 3.0516952040901555, b = 7.593130279452767, cost = 1.092999125808068\n",
            "After 400 epochs:- W = 2.7006394138545353, b = 8.246493947646858, cost = 0.5321101402861003\n",
            "After 500 epochs:- W = 2.465809301594252, b = 8.683545458046707, cost = 0.28113413582887475\n",
            "After 600 epochs:- W = 2.308725490118805, b = 8.975900285985318, cost = 0.16883213589800863\n",
            "After 700 epochs:- W = 2.203648148928885, b = 9.171463837157662, cost = 0.11858135907275956\n",
            "After 800 epochs:- W = 2.1333592532888073, b = 9.302281251109074, cost = 0.09609609101791128\n",
            "After 900 epochs:- W = 2.086341230236894, b = 9.38978833354006, cost = 0.08603480815940799\n",
            "After 1000 epochs:- W = 2.054889683423151, b = 9.448324037956505, cost = 0.08153277542793765\n",
            "After 1100 epochs:- W = 2.0338509469393786, b = 9.487480053633654, cost = 0.07951829089348293\n",
            "After 1200 epochs:- W = 2.019777603092258, b = 9.513672504531682, cost = 0.07861688742051609\n",
            "After 1300 epochs:- W = 2.0103635868469403, b = 9.531193298519044, cost = 0.07821354442771615\n",
            "After 1400 epochs:- W = 2.0040663128778062, b = 9.54291340150379, cost = 0.07803306412702964\n",
            "After 1500 epochs:- W = 1.9998539067793928, b = 9.55075327531728, cost = 0.07795230621250676\n",
            "After 1600 epochs:- W = 1.9970361216195094, b = 9.55599756553311, cost = 0.07791617018695024\n",
            "After 1700 epochs:- W = 1.995151233737913, b = 9.559505604121755, cost = 0.07790000072107507\n",
            "After 1800 epochs:- W = 1.9938903844805724, b = 9.561852220009312, cost = 0.07789276551402996\n",
            "After 1900 epochs:- W = 1.993046970468914, b = 9.563421930827655, cost = 0.07788952804030086\n",
            "After 2000 epochs:- W = 1.9924827894687525, b = 9.564471950162423, cost = 0.07788807939673308\n",
            "After 2100 epochs:- W = 1.9921053945043063, b = 9.565174334697526, cost = 0.07788743118508355\n",
            "After 2200 epochs:- W = 1.9918529454513456, b = 9.56564417750786, cost = 0.07788714113558352\n",
            "After 2300 epochs:- W = 1.9916840758840635, b = 9.565958467267086, cost = 0.07788701134971414\n",
            "After 2400 epochs:- W = 1.9915711147522244, b = 9.566168703649513, cost = 0.07788695327558576\n",
            "After 2500 epochs:- W = 1.9914955521892834, b = 9.566309336092027, cost = 0.07788692728967217\n",
            "After 2600 epochs:- W = 1.9914450064765654, b = 9.56640340869573, cost = 0.07788691566198663\n",
            "After 2700 epochs:- W = 1.9914111951687627, b = 9.566466336243657, cost = 0.07788691045904964\n",
            "After 2800 epochs:- W = 1.991388577928367, b = 9.566508430074729, cost = 0.07788690813093768\n",
            "After 2900 epochs:- W = 1.9913734486832637, b = 9.566536587704766, cost = 0.07788690708919818\n",
            "After 3000 epochs:- W = 1.9913633283479197, b = 9.566555423056867, cost = 0.07788690662306026\n",
            "After 3100 epochs:- W = 1.991356558599209, b = 9.566568022501079, cost = 0.07788690641448158\n",
            "After 3200 epochs:- W = 1.9913520301427847, b = 9.566576450588522, cost = 0.07788690632115078\n",
            "After 3300 epochs:- W = 1.9913490009435566, b = 9.566582088349731, cost = 0.07788690627938888\n",
            "After 3400 epochs:- W = 1.991346974635447, b = 9.56658585959104, cost = 0.07788690626070208\n"
          ]
        }
      ],
      "id": "11396b5c"
    },
    {
      "cell_type": "code",
      "source": [
        "# Comparing initial and final values\n",
        "initial = [weights[0], biases[0], costs[0]]\n",
        "final = [weights[-1], biases[-1], costs[-1]]\n",
        "df = pd.DataFrame(list(zip(initial,final)),\n",
        "                  columns = ['Initial', 'Final'],\n",
        "                  index = ['Weight', 'Bias', 'Cost'])\n",
        "df"
      ],
      "metadata": {
        "id": "d59d388b",
        "execution": {
          "iopub.status.busy": "2022-12-14T11:21:08.388563Z",
          "iopub.execute_input": "2022-12-14T11:21:08.389343Z",
          "iopub.status.idle": "2022-12-14T11:21:08.413569Z",
          "shell.execute_reply.started": "2022-12-14T11:21:08.389294Z",
          "shell.execute_reply": "2022-12-14T11:21:08.412495Z"
        },
        "trusted": true,
        "outputId": "539b57f4-f1cd-4caa-cf3b-e9b0ee1d2041",
        "colab": {
          "base_uri": "https://localhost:8080/",
          "height": 143
        }
      },
      "execution_count": 37,
      "outputs": [
        {
          "output_type": "execute_result",
          "data": {
            "text/plain": [
              "          Initial     Final\n",
              "Weight    0.00000  1.991347\n",
              "Bias      0.00000  9.566587\n",
              "Cost    160.05638  0.077887"
            ],
            "text/html": [
              "\n",
              "  <div id=\"df-81c2801d-48a4-4bde-8a87-b6465bc453d8\" class=\"colab-df-container\">\n",
              "    <div>\n",
              "<style scoped>\n",
              "    .dataframe tbody tr th:only-of-type {\n",
              "        vertical-align: middle;\n",
              "    }\n",
              "\n",
              "    .dataframe tbody tr th {\n",
              "        vertical-align: top;\n",
              "    }\n",
              "\n",
              "    .dataframe thead th {\n",
              "        text-align: right;\n",
              "    }\n",
              "</style>\n",
              "<table border=\"1\" class=\"dataframe\">\n",
              "  <thead>\n",
              "    <tr style=\"text-align: right;\">\n",
              "      <th></th>\n",
              "      <th>Initial</th>\n",
              "      <th>Final</th>\n",
              "    </tr>\n",
              "  </thead>\n",
              "  <tbody>\n",
              "    <tr>\n",
              "      <th>Weight</th>\n",
              "      <td>0.00000</td>\n",
              "      <td>1.991347</td>\n",
              "    </tr>\n",
              "    <tr>\n",
              "      <th>Bias</th>\n",
              "      <td>0.00000</td>\n",
              "      <td>9.566587</td>\n",
              "    </tr>\n",
              "    <tr>\n",
              "      <th>Cost</th>\n",
              "      <td>160.05638</td>\n",
              "      <td>0.077887</td>\n",
              "    </tr>\n",
              "  </tbody>\n",
              "</table>\n",
              "</div>\n",
              "    <div class=\"colab-df-buttons\">\n",
              "\n",
              "  <div class=\"colab-df-container\">\n",
              "    <button class=\"colab-df-convert\" onclick=\"convertToInteractive('df-81c2801d-48a4-4bde-8a87-b6465bc453d8')\"\n",
              "            title=\"Convert this dataframe to an interactive table.\"\n",
              "            style=\"display:none;\">\n",
              "\n",
              "  <svg xmlns=\"http://www.w3.org/2000/svg\" height=\"24px\" viewBox=\"0 -960 960 960\">\n",
              "    <path d=\"M120-120v-720h720v720H120Zm60-500h600v-160H180v160Zm220 220h160v-160H400v160Zm0 220h160v-160H400v160ZM180-400h160v-160H180v160Zm440 0h160v-160H620v160ZM180-180h160v-160H180v160Zm440 0h160v-160H620v160Z\"/>\n",
              "  </svg>\n",
              "    </button>\n",
              "\n",
              "  <style>\n",
              "    .colab-df-container {\n",
              "      display:flex;\n",
              "      gap: 12px;\n",
              "    }\n",
              "\n",
              "    .colab-df-convert {\n",
              "      background-color: #E8F0FE;\n",
              "      border: none;\n",
              "      border-radius: 50%;\n",
              "      cursor: pointer;\n",
              "      display: none;\n",
              "      fill: #1967D2;\n",
              "      height: 32px;\n",
              "      padding: 0 0 0 0;\n",
              "      width: 32px;\n",
              "    }\n",
              "\n",
              "    .colab-df-convert:hover {\n",
              "      background-color: #E2EBFA;\n",
              "      box-shadow: 0px 1px 2px rgba(60, 64, 67, 0.3), 0px 1px 3px 1px rgba(60, 64, 67, 0.15);\n",
              "      fill: #174EA6;\n",
              "    }\n",
              "\n",
              "    .colab-df-buttons div {\n",
              "      margin-bottom: 4px;\n",
              "    }\n",
              "\n",
              "    [theme=dark] .colab-df-convert {\n",
              "      background-color: #3B4455;\n",
              "      fill: #D2E3FC;\n",
              "    }\n",
              "\n",
              "    [theme=dark] .colab-df-convert:hover {\n",
              "      background-color: #434B5C;\n",
              "      box-shadow: 0px 1px 3px 1px rgba(0, 0, 0, 0.15);\n",
              "      filter: drop-shadow(0px 1px 2px rgba(0, 0, 0, 0.3));\n",
              "      fill: #FFFFFF;\n",
              "    }\n",
              "  </style>\n",
              "\n",
              "    <script>\n",
              "      const buttonEl =\n",
              "        document.querySelector('#df-81c2801d-48a4-4bde-8a87-b6465bc453d8 button.colab-df-convert');\n",
              "      buttonEl.style.display =\n",
              "        google.colab.kernel.accessAllowed ? 'block' : 'none';\n",
              "\n",
              "      async function convertToInteractive(key) {\n",
              "        const element = document.querySelector('#df-81c2801d-48a4-4bde-8a87-b6465bc453d8');\n",
              "        const dataTable =\n",
              "          await google.colab.kernel.invokeFunction('convertToInteractive',\n",
              "                                                    [key], {});\n",
              "        if (!dataTable) return;\n",
              "\n",
              "        const docLinkHtml = 'Like what you see? Visit the ' +\n",
              "          '<a target=\"_blank\" href=https://colab.research.google.com/notebooks/data_table.ipynb>data table notebook</a>'\n",
              "          + ' to learn more about interactive tables.';\n",
              "        element.innerHTML = '';\n",
              "        dataTable['output_type'] = 'display_data';\n",
              "        await google.colab.output.renderOutput(dataTable, element);\n",
              "        const docLink = document.createElement('div');\n",
              "        docLink.innerHTML = docLinkHtml;\n",
              "        element.appendChild(docLink);\n",
              "      }\n",
              "    </script>\n",
              "  </div>\n",
              "\n",
              "\n",
              "<div id=\"df-14892f21-afde-47bf-8b90-ebf5af7b04bb\">\n",
              "  <button class=\"colab-df-quickchart\" onclick=\"quickchart('df-14892f21-afde-47bf-8b90-ebf5af7b04bb')\"\n",
              "            title=\"Suggest charts\"\n",
              "            style=\"display:none;\">\n",
              "\n",
              "<svg xmlns=\"http://www.w3.org/2000/svg\" height=\"24px\"viewBox=\"0 0 24 24\"\n",
              "     width=\"24px\">\n",
              "    <g>\n",
              "        <path d=\"M19 3H5c-1.1 0-2 .9-2 2v14c0 1.1.9 2 2 2h14c1.1 0 2-.9 2-2V5c0-1.1-.9-2-2-2zM9 17H7v-7h2v7zm4 0h-2V7h2v10zm4 0h-2v-4h2v4z\"/>\n",
              "    </g>\n",
              "</svg>\n",
              "  </button>\n",
              "\n",
              "<style>\n",
              "  .colab-df-quickchart {\n",
              "      --bg-color: #E8F0FE;\n",
              "      --fill-color: #1967D2;\n",
              "      --hover-bg-color: #E2EBFA;\n",
              "      --hover-fill-color: #174EA6;\n",
              "      --disabled-fill-color: #AAA;\n",
              "      --disabled-bg-color: #DDD;\n",
              "  }\n",
              "\n",
              "  [theme=dark] .colab-df-quickchart {\n",
              "      --bg-color: #3B4455;\n",
              "      --fill-color: #D2E3FC;\n",
              "      --hover-bg-color: #434B5C;\n",
              "      --hover-fill-color: #FFFFFF;\n",
              "      --disabled-bg-color: #3B4455;\n",
              "      --disabled-fill-color: #666;\n",
              "  }\n",
              "\n",
              "  .colab-df-quickchart {\n",
              "    background-color: var(--bg-color);\n",
              "    border: none;\n",
              "    border-radius: 50%;\n",
              "    cursor: pointer;\n",
              "    display: none;\n",
              "    fill: var(--fill-color);\n",
              "    height: 32px;\n",
              "    padding: 0;\n",
              "    width: 32px;\n",
              "  }\n",
              "\n",
              "  .colab-df-quickchart:hover {\n",
              "    background-color: var(--hover-bg-color);\n",
              "    box-shadow: 0 1px 2px rgba(60, 64, 67, 0.3), 0 1px 3px 1px rgba(60, 64, 67, 0.15);\n",
              "    fill: var(--button-hover-fill-color);\n",
              "  }\n",
              "\n",
              "  .colab-df-quickchart-complete:disabled,\n",
              "  .colab-df-quickchart-complete:disabled:hover {\n",
              "    background-color: var(--disabled-bg-color);\n",
              "    fill: var(--disabled-fill-color);\n",
              "    box-shadow: none;\n",
              "  }\n",
              "\n",
              "  .colab-df-spinner {\n",
              "    border: 2px solid var(--fill-color);\n",
              "    border-color: transparent;\n",
              "    border-bottom-color: var(--fill-color);\n",
              "    animation:\n",
              "      spin 1s steps(1) infinite;\n",
              "  }\n",
              "\n",
              "  @keyframes spin {\n",
              "    0% {\n",
              "      border-color: transparent;\n",
              "      border-bottom-color: var(--fill-color);\n",
              "      border-left-color: var(--fill-color);\n",
              "    }\n",
              "    20% {\n",
              "      border-color: transparent;\n",
              "      border-left-color: var(--fill-color);\n",
              "      border-top-color: var(--fill-color);\n",
              "    }\n",
              "    30% {\n",
              "      border-color: transparent;\n",
              "      border-left-color: var(--fill-color);\n",
              "      border-top-color: var(--fill-color);\n",
              "      border-right-color: var(--fill-color);\n",
              "    }\n",
              "    40% {\n",
              "      border-color: transparent;\n",
              "      border-right-color: var(--fill-color);\n",
              "      border-top-color: var(--fill-color);\n",
              "    }\n",
              "    60% {\n",
              "      border-color: transparent;\n",
              "      border-right-color: var(--fill-color);\n",
              "    }\n",
              "    80% {\n",
              "      border-color: transparent;\n",
              "      border-right-color: var(--fill-color);\n",
              "      border-bottom-color: var(--fill-color);\n",
              "    }\n",
              "    90% {\n",
              "      border-color: transparent;\n",
              "      border-bottom-color: var(--fill-color);\n",
              "    }\n",
              "  }\n",
              "</style>\n",
              "\n",
              "  <script>\n",
              "    async function quickchart(key) {\n",
              "      const quickchartButtonEl =\n",
              "        document.querySelector('#' + key + ' button');\n",
              "      quickchartButtonEl.disabled = true;  // To prevent multiple clicks.\n",
              "      quickchartButtonEl.classList.add('colab-df-spinner');\n",
              "      try {\n",
              "        const charts = await google.colab.kernel.invokeFunction(\n",
              "            'suggestCharts', [key], {});\n",
              "      } catch (error) {\n",
              "        console.error('Error during call to suggestCharts:', error);\n",
              "      }\n",
              "      quickchartButtonEl.classList.remove('colab-df-spinner');\n",
              "      quickchartButtonEl.classList.add('colab-df-quickchart-complete');\n",
              "    }\n",
              "    (() => {\n",
              "      let quickchartButtonEl =\n",
              "        document.querySelector('#df-14892f21-afde-47bf-8b90-ebf5af7b04bb button');\n",
              "      quickchartButtonEl.style.display =\n",
              "        google.colab.kernel.accessAllowed ? 'block' : 'none';\n",
              "    })();\n",
              "  </script>\n",
              "</div>\n",
              "\n",
              "  <div id=\"id_4b69d9c9-653c-4c12-b3c8-d3dea1739e88\">\n",
              "    <style>\n",
              "      .colab-df-generate {\n",
              "        background-color: #E8F0FE;\n",
              "        border: none;\n",
              "        border-radius: 50%;\n",
              "        cursor: pointer;\n",
              "        display: none;\n",
              "        fill: #1967D2;\n",
              "        height: 32px;\n",
              "        padding: 0 0 0 0;\n",
              "        width: 32px;\n",
              "      }\n",
              "\n",
              "      .colab-df-generate:hover {\n",
              "        background-color: #E2EBFA;\n",
              "        box-shadow: 0px 1px 2px rgba(60, 64, 67, 0.3), 0px 1px 3px 1px rgba(60, 64, 67, 0.15);\n",
              "        fill: #174EA6;\n",
              "      }\n",
              "\n",
              "      [theme=dark] .colab-df-generate {\n",
              "        background-color: #3B4455;\n",
              "        fill: #D2E3FC;\n",
              "      }\n",
              "\n",
              "      [theme=dark] .colab-df-generate:hover {\n",
              "        background-color: #434B5C;\n",
              "        box-shadow: 0px 1px 3px 1px rgba(0, 0, 0, 0.15);\n",
              "        filter: drop-shadow(0px 1px 2px rgba(0, 0, 0, 0.3));\n",
              "        fill: #FFFFFF;\n",
              "      }\n",
              "    </style>\n",
              "    <button class=\"colab-df-generate\" onclick=\"generateWithVariable('df')\"\n",
              "            title=\"Generate code using this dataframe.\"\n",
              "            style=\"display:none;\">\n",
              "\n",
              "  <svg xmlns=\"http://www.w3.org/2000/svg\" height=\"24px\"viewBox=\"0 0 24 24\"\n",
              "       width=\"24px\">\n",
              "    <path d=\"M7,19H8.4L18.45,9,17,7.55,7,17.6ZM5,21V16.75L18.45,3.32a2,2,0,0,1,2.83,0l1.4,1.43a1.91,1.91,0,0,1,.58,1.4,1.91,1.91,0,0,1-.58,1.4L9.25,21ZM18.45,9,17,7.55Zm-12,3A5.31,5.31,0,0,0,4.9,8.1,5.31,5.31,0,0,0,1,6.5,5.31,5.31,0,0,0,4.9,4.9,5.31,5.31,0,0,0,6.5,1,5.31,5.31,0,0,0,8.1,4.9,5.31,5.31,0,0,0,12,6.5,5.46,5.46,0,0,0,6.5,12Z\"/>\n",
              "  </svg>\n",
              "    </button>\n",
              "    <script>\n",
              "      (() => {\n",
              "      const buttonEl =\n",
              "        document.querySelector('#id_4b69d9c9-653c-4c12-b3c8-d3dea1739e88 button.colab-df-generate');\n",
              "      buttonEl.style.display =\n",
              "        google.colab.kernel.accessAllowed ? 'block' : 'none';\n",
              "\n",
              "      buttonEl.onclick = () => {\n",
              "        google.colab.notebook.generateWithVariable('df');\n",
              "      }\n",
              "      })();\n",
              "    </script>\n",
              "  </div>\n",
              "\n",
              "    </div>\n",
              "  </div>\n"
            ],
            "application/vnd.google.colaboratory.intrinsic+json": {
              "type": "dataframe",
              "variable_name": "df",
              "summary": "{\n  \"name\": \"df\",\n  \"rows\": 3,\n  \"fields\": [\n    {\n      \"column\": \"Initial\",\n      \"properties\": {\n        \"dtype\": \"number\",\n        \"std\": 92.40859417791316,\n        \"min\": 0.0,\n        \"max\": 160.05638017215915,\n        \"num_unique_values\": 2,\n        \"samples\": [\n          160.05638017215915,\n          0.0\n        ],\n        \"semantic_type\": \"\",\n        \"description\": \"\"\n      }\n    },\n    {\n      \"column\": \"Final\",\n      \"properties\": {\n        \"dtype\": \"number\",\n        \"std\": 5.0179844826780755,\n        \"min\": 0.07788690625794603,\n        \"max\": 9.5665865605242,\n        \"num_unique_values\": 3,\n        \"samples\": [\n          1.991346598020315,\n          9.5665865605242\n        ],\n        \"semantic_type\": \"\",\n        \"description\": \"\"\n      }\n    }\n  ]\n}"
            }
          },
          "metadata": {},
          "execution_count": 37
        }
      ],
      "id": "d59d388b"
    },
    {
      "cell_type": "code",
      "source": [
        "# Visualising the cost wrt epochs\n",
        "plt.figure(figsize=(10, 4))\n",
        "plt.plot(costs, color='m')\n",
        "plt.xlabel('Epochs', color='blue')\n",
        "plt.ylabel('Costs', color='blue')\n",
        "plt.title('Costs vs Epochs', weight='bold', color='maroon')\n",
        "plt.show()\n",
        "\n"
      ],
      "metadata": {
        "id": "7384e581",
        "execution": {
          "iopub.status.busy": "2022-12-14T11:21:08.415184Z",
          "iopub.execute_input": "2022-12-14T11:21:08.415673Z",
          "iopub.status.idle": "2022-12-14T11:21:08.591299Z",
          "shell.execute_reply.started": "2022-12-14T11:21:08.415627Z",
          "shell.execute_reply": "2022-12-14T11:21:08.590040Z"
        },
        "trusted": true,
        "outputId": "7061b2e2-ee86-472f-91f3-90aac3bf2dae",
        "colab": {
          "base_uri": "https://localhost:8080/",
          "height": 338
        }
      },
      "execution_count": 38,
      "outputs": [
        {
          "output_type": "display_data",
          "data": {
            "text/plain": [
              "<Figure size 1000x400 with 1 Axes>"
            ],
            "image/png": "[encoded data removed]"
          },
          "metadata": {}
        }
      ],
      "id": "7384e581"
    },
    {
      "cell_type": "code",
      "source": [
        "# Define a seed value (using different seed value compared to trianing set to avoid data leakage!) --> 5007\n",
        "np.random.seed(5007)  # This number was choose to get the optimal results with random values\n",
        "\n",
        "# Test data\n",
        "X_test = 3*np.random.rand(10,1)\n",
        "y_test = 9 + 2*X_test + np.random.rand(10,1)\n",
        "\n",
        "prediction = predict(X_test, weights[-1], biases[-1])\n",
        "\n",
        "# DataFrame to compare true and predicted outputs on test inputs\n",
        "df1 = pd.DataFrame(list(zip(X_test.reshape(10,), y_test.reshape(10,), prediction.reshape(10,))),\n",
        "                  columns = ['Test Input', 'True Output', 'Predicted Output'])\n",
        "df1"
      ],
      "metadata": {
        "id": "1d03bc56",
        "execution": {
          "iopub.status.busy": "2022-12-14T11:21:08.592750Z",
          "iopub.execute_input": "2022-12-14T11:21:08.593130Z",
          "iopub.status.idle": "2022-12-14T11:21:08.601268Z",
          "shell.execute_reply.started": "2022-12-14T11:21:08.593099Z",
          "shell.execute_reply": "2022-12-14T11:21:08.599852Z"
        },
        "trusted": true,
        "outputId": "f71dfe5f-fe56-4863-ea8a-284c3e536673",
        "colab": {
          "base_uri": "https://localhost:8080/",
          "height": 363
        }
      },
      "execution_count": 39,
      "outputs": [
        {
          "output_type": "execute_result",
          "data": {
            "text/plain": [
              "   Test Input  True Output  Predicted Output\n",
              "0    0.723836    10.889388         11.007996\n",
              "1    1.900129    13.358554         13.350402\n",
              "2    0.126943     9.974414          9.819374\n",
              "3    2.026471    13.566160         13.601992\n",
              "4    2.647429    14.842352         14.838536\n",
              "5    1.238825    12.071978         12.033517\n",
              "6    1.561243    12.881255         12.675562\n",
              "7    2.042729    13.622504         13.634369\n",
              "8    1.230220    12.098017         12.016381\n",
              "9    0.382516    10.325675         10.328309"
            ],
            "text/html": [
              "\n",
              "  <div id=\"df-802986f5-c870-4c7d-ba78-ecd51f17ff5c\" class=\"colab-df-container\">\n",
              "    <div>\n",
              "<style scoped>\n",
              "    .dataframe tbody tr th:only-of-type {\n",
              "        vertical-align: middle;\n",
              "    }\n",
              "\n",
              "    .dataframe tbody tr th {\n",
              "        vertical-align: top;\n",
              "    }\n",
              "\n",
              "    .dataframe thead th {\n",
              "        text-align: right;\n",
              "    }\n",
              "</style>\n",
              "<table border=\"1\" class=\"dataframe\">\n",
              "  <thead>\n",
              "    <tr style=\"text-align: right;\">\n",
              "      <th></th>\n",
              "      <th>Test Input</th>\n",
              "      <th>True Output</th>\n",
              "      <th>Predicted Output</th>\n",
              "    </tr>\n",
              "  </thead>\n",
              "  <tbody>\n",
              "    <tr>\n",
              "      <th>0</th>\n",
              "      <td>0.723836</td>\n",
              "      <td>10.889388</td>\n",
              "      <td>11.007996</td>\n",
              "    </tr>\n",
              "    <tr>\n",
              "      <th>1</th>\n",
              "      <td>1.900129</td>\n",
              "      <td>13.358554</td>\n",
              "      <td>13.350402</td>\n",
              "    </tr>\n",
              "    <tr>\n",
              "      <th>2</th>\n",
              "      <td>0.126943</td>\n",
              "      <td>9.974414</td>\n",
              "      <td>9.819374</td>\n",
              "    </tr>\n",
              "    <tr>\n",
              "      <th>3</th>\n",
              "      <td>2.026471</td>\n",
              "      <td>13.566160</td>\n",
              "      <td>13.601992</td>\n",
              "    </tr>\n",
              "    <tr>\n",
              "      <th>4</th>\n",
              "      <td>2.647429</td>\n",
              "      <td>14.842352</td>\n",
              "      <td>14.838536</td>\n",
              "    </tr>\n",
              "    <tr>\n",
              "      <th>5</th>\n",
              "      <td>1.238825</td>\n",
              "      <td>12.071978</td>\n",
              "      <td>12.033517</td>\n",
              "    </tr>\n",
              "    <tr>\n",
              "      <th>6</th>\n",
              "      <td>1.561243</td>\n",
              "      <td>12.881255</td>\n",
              "      <td>12.675562</td>\n",
              "    </tr>\n",
              "    <tr>\n",
              "      <th>7</th>\n",
              "      <td>2.042729</td>\n",
              "      <td>13.622504</td>\n",
              "      <td>13.634369</td>\n",
              "    </tr>\n",
              "    <tr>\n",
              "      <th>8</th>\n",
              "      <td>1.230220</td>\n",
              "      <td>12.098017</td>\n",
              "      <td>12.016381</td>\n",
              "    </tr>\n",
              "    <tr>\n",
              "      <th>9</th>\n",
              "      <td>0.382516</td>\n",
              "      <td>10.325675</td>\n",
              "      <td>10.328309</td>\n",
              "    </tr>\n",
              "  </tbody>\n",
              "</table>\n",
              "</div>\n",
              "    <div class=\"colab-df-buttons\">\n",
              "\n",
              "  <div class=\"colab-df-container\">\n",
              "    <button class=\"colab-df-convert\" onclick=\"convertToInteractive('df-802986f5-c870-4c7d-ba78-ecd51f17ff5c')\"\n",
              "            title=\"Convert this dataframe to an interactive table.\"\n",
              "            style=\"display:none;\">\n",
              "\n",
              "  <svg xmlns=\"http://www.w3.org/2000/svg\" height=\"24px\" viewBox=\"0 -960 960 960\">\n",
              "    <path d=\"M120-120v-720h720v720H120Zm60-500h600v-160H180v160Zm220 220h160v-160H400v160Zm0 220h160v-160H400v160ZM180-400h160v-160H180v160Zm440 0h160v-160H620v160ZM180-180h160v-160H180v160Zm440 0h160v-160H620v160Z\"/>\n",
              "  </svg>\n",
              "    </button>\n",
              "\n",
              "  <style>\n",
              "    .colab-df-container {\n",
              "      display:flex;\n",
              "      gap: 12px;\n",
              "    }\n",
              "\n",
              "    .colab-df-convert {\n",
              "      background-color: #E8F0FE;\n",
              "      border: none;\n",
              "      border-radius: 50%;\n",
              "      cursor: pointer;\n",
              "      display: none;\n",
              "      fill: #1967D2;\n",
              "      height: 32px;\n",
              "      padding: 0 0 0 0;\n",
              "      width: 32px;\n",
              "    }\n",
              "\n",
              "    .colab-df-convert:hover {\n",
              "      background-color: #E2EBFA;\n",
              "      box-shadow: 0px 1px 2px rgba(60, 64, 67, 0.3), 0px 1px 3px 1px rgba(60, 64, 67, 0.15);\n",
              "      fill: #174EA6;\n",
              "    }\n",
              "\n",
              "    .colab-df-buttons div {\n",
              "      margin-bottom: 4px;\n",
              "    }\n",
              "\n",
              "    [theme=dark] .colab-df-convert {\n",
              "      background-color: #3B4455;\n",
              "      fill: #D2E3FC;\n",
              "    }\n",
              "\n",
              "    [theme=dark] .colab-df-convert:hover {\n",
              "      background-color: #434B5C;\n",
              "      box-shadow: 0px 1px 3px 1px rgba(0, 0, 0, 0.15);\n",
              "      filter: drop-shadow(0px 1px 2px rgba(0, 0, 0, 0.3));\n",
              "      fill: #FFFFFF;\n",
              "    }\n",
              "  </style>\n",
              "\n",
              "    <script>\n",
              "      const buttonEl =\n",
              "        document.querySelector('#df-802986f5-c870-4c7d-ba78-ecd51f17ff5c button.colab-df-convert');\n",
              "      buttonEl.style.display =\n",
              "        google.colab.kernel.accessAllowed ? 'block' : 'none';\n",
              "\n",
              "      async function convertToInteractive(key) {\n",
              "        const element = document.querySelector('#df-802986f5-c870-4c7d-ba78-ecd51f17ff5c');\n",
              "        const dataTable =\n",
              "          await google.colab.kernel.invokeFunction('convertToInteractive',\n",
              "                                                    [key], {});\n",
              "        if (!dataTable) return;\n",
              "\n",
              "        const docLinkHtml = 'Like what you see? Visit the ' +\n",
              "          '<a target=\"_blank\" href=https://colab.research.google.com/notebooks/data_table.ipynb>data table notebook</a>'\n",
              "          + ' to learn more about interactive tables.';\n",
              "        element.innerHTML = '';\n",
              "        dataTable['output_type'] = 'display_data';\n",
              "        await google.colab.output.renderOutput(dataTable, element);\n",
              "        const docLink = document.createElement('div');\n",
              "        docLink.innerHTML = docLinkHtml;\n",
              "        element.appendChild(docLink);\n",
              "      }\n",
              "    </script>\n",
              "  </div>\n",
              "\n",
              "\n",
              "<div id=\"df-f0991696-9a4c-453a-8274-c9836378e553\">\n",
              "  <button class=\"colab-df-quickchart\" onclick=\"quickchart('df-f0991696-9a4c-453a-8274-c9836378e553')\"\n",
              "            title=\"Suggest charts\"\n",
              "            style=\"display:none;\">\n",
              "\n",
              "<svg xmlns=\"http://www.w3.org/2000/svg\" height=\"24px\"viewBox=\"0 0 24 24\"\n",
              "     width=\"24px\">\n",
              "    <g>\n",
              "        <path d=\"M19 3H5c-1.1 0-2 .9-2 2v14c0 1.1.9 2 2 2h14c1.1 0 2-.9 2-2V5c0-1.1-.9-2-2-2zM9 17H7v-7h2v7zm4 0h-2V7h2v10zm4 0h-2v-4h2v4z\"/>\n",
              "    </g>\n",
              "</svg>\n",
              "  </button>\n",
              "\n",
              "<style>\n",
              "  .colab-df-quickchart {\n",
              "      --bg-color: #E8F0FE;\n",
              "      --fill-color: #1967D2;\n",
              "      --hover-bg-color: #E2EBFA;\n",
              "      --hover-fill-color: #174EA6;\n",
              "      --disabled-fill-color: #AAA;\n",
              "      --disabled-bg-color: #DDD;\n",
              "  }\n",
              "\n",
              "  [theme=dark] .colab-df-quickchart {\n",
              "      --bg-color: #3B4455;\n",
              "      --fill-color: #D2E3FC;\n",
              "      --hover-bg-color: #434B5C;\n",
              "      --hover-fill-color: #FFFFFF;\n",
              "      --disabled-bg-color: #3B4455;\n",
              "      --disabled-fill-color: #666;\n",
              "  }\n",
              "\n",
              "  .colab-df-quickchart {\n",
              "    background-color: var(--bg-color);\n",
              "    border: none;\n",
              "    border-radius: 50%;\n",
              "    cursor: pointer;\n",
              "    display: none;\n",
              "    fill: var(--fill-color);\n",
              "    height: 32px;\n",
              "    padding: 0;\n",
              "    width: 32px;\n",
              "  }\n",
              "\n",
              "  .colab-df-quickchart:hover {\n",
              "    background-color: var(--hover-bg-color);\n",
              "    box-shadow: 0 1px 2px rgba(60, 64, 67, 0.3), 0 1px 3px 1px rgba(60, 64, 67, 0.15);\n",
              "    fill: var(--button-hover-fill-color);\n",
              "  }\n",
              "\n",
              "  .colab-df-quickchart-complete:disabled,\n",
              "  .colab-df-quickchart-complete:disabled:hover {\n",
              "    background-color: var(--disabled-bg-color);\n",
              "    fill: var(--disabled-fill-color);\n",
              "    box-shadow: none;\n",
              "  }\n",
              "\n",
              "  .colab-df-spinner {\n",
              "    border: 2px solid var(--fill-color);\n",
              "    border-color: transparent;\n",
              "    border-bottom-color: var(--fill-color);\n",
              "    animation:\n",
              "      spin 1s steps(1) infinite;\n",
              "  }\n",
              "\n",
              "  @keyframes spin {\n",
              "    0% {\n",
              "      border-color: transparent;\n",
              "      border-bottom-color: var(--fill-color);\n",
              "      border-left-color: var(--fill-color);\n",
              "    }\n",
              "    20% {\n",
              "      border-color: transparent;\n",
              "      border-left-color: var(--fill-color);\n",
              "      border-top-color: var(--fill-color);\n",
              "    }\n",
              "    30% {\n",
              "      border-color: transparent;\n",
              "      border-left-color: var(--fill-color);\n",
              "      border-top-color: var(--fill-color);\n",
              "      border-right-color: var(--fill-color);\n",
              "    }\n",
              "    40% {\n",
              "      border-color: transparent;\n",
              "      border-right-color: var(--fill-color);\n",
              "      border-top-color: var(--fill-color);\n",
              "    }\n",
              "    60% {\n",
              "      border-color: transparent;\n",
              "      border-right-color: var(--fill-color);\n",
              "    }\n",
              "    80% {\n",
              "      border-color: transparent;\n",
              "      border-right-color: var(--fill-color);\n",
              "      border-bottom-color: var(--fill-color);\n",
              "    }\n",
              "    90% {\n",
              "      border-color: transparent;\n",
              "      border-bottom-color: var(--fill-color);\n",
              "    }\n",
              "  }\n",
              "</style>\n",
              "\n",
              "  <script>\n",
              "    async function quickchart(key) {\n",
              "      const quickchartButtonEl =\n",
              "        document.querySelector('#' + key + ' button');\n",
              "      quickchartButtonEl.disabled = true;  // To prevent multiple clicks.\n",
              "      quickchartButtonEl.classList.add('colab-df-spinner');\n",
              "      try {\n",
              "        const charts = await google.colab.kernel.invokeFunction(\n",
              "            'suggestCharts', [key], {});\n",
              "      } catch (error) {\n",
              "        console.error('Error during call to suggestCharts:', error);\n",
              "      }\n",
              "      quickchartButtonEl.classList.remove('colab-df-spinner');\n",
              "      quickchartButtonEl.classList.add('colab-df-quickchart-complete');\n",
              "    }\n",
              "    (() => {\n",
              "      let quickchartButtonEl =\n",
              "        document.querySelector('#df-f0991696-9a4c-453a-8274-c9836378e553 button');\n",
              "      quickchartButtonEl.style.display =\n",
              "        google.colab.kernel.accessAllowed ? 'block' : 'none';\n",
              "    })();\n",
              "  </script>\n",
              "</div>\n",
              "\n",
              "  <div id=\"id_2a4c0135-37a9-4699-9613-45d0a521a95f\">\n",
              "    <style>\n",
              "      .colab-df-generate {\n",
              "        background-color: #E8F0FE;\n",
              "        border: none;\n",
              "        border-radius: 50%;\n",
              "        cursor: pointer;\n",
              "        display: none;\n",
              "        fill: #1967D2;\n",
              "        height: 32px;\n",
              "        padding: 0 0 0 0;\n",
              "        width: 32px;\n",
              "      }\n",
              "\n",
              "      .colab-df-generate:hover {\n",
              "        background-color: #E2EBFA;\n",
              "        box-shadow: 0px 1px 2px rgba(60, 64, 67, 0.3), 0px 1px 3px 1px rgba(60, 64, 67, 0.15);\n",
              "        fill: #174EA6;\n",
              "      }\n",
              "\n",
              "      [theme=dark] .colab-df-generate {\n",
              "        background-color: #3B4455;\n",
              "        fill: #D2E3FC;\n",
              "      }\n",
              "\n",
              "      [theme=dark] .colab-df-generate:hover {\n",
              "        background-color: #434B5C;\n",
              "        box-shadow: 0px 1px 3px 1px rgba(0, 0, 0, 0.15);\n",
              "        filter: drop-shadow(0px 1px 2px rgba(0, 0, 0, 0.3));\n",
              "        fill: #FFFFFF;\n",
              "      }\n",
              "    </style>\n",
              "    <button class=\"colab-df-generate\" onclick=\"generateWithVariable('df1')\"\n",
              "            title=\"Generate code using this dataframe.\"\n",
              "            style=\"display:none;\">\n",
              "\n",
              "  <svg xmlns=\"http://www.w3.org/2000/svg\" height=\"24px\"viewBox=\"0 0 24 24\"\n",
              "       width=\"24px\">\n",
              "    <path d=\"M7,19H8.4L18.45,9,17,7.55,7,17.6ZM5,21V16.75L18.45,3.32a2,2,0,0,1,2.83,0l1.4,1.43a1.91,1.91,0,0,1,.58,1.4,1.91,1.91,0,0,1-.58,1.4L9.25,21ZM18.45,9,17,7.55Zm-12,3A5.31,5.31,0,0,0,4.9,8.1,5.31,5.31,0,0,0,1,6.5,5.31,5.31,0,0,0,4.9,4.9,5.31,5.31,0,0,0,6.5,1,5.31,5.31,0,0,0,8.1,4.9,5.31,5.31,0,0,0,12,6.5,5.46,5.46,0,0,0,6.5,12Z\"/>\n",
              "  </svg>\n",
              "    </button>\n",
              "    <script>\n",
              "      (() => {\n",
              "      const buttonEl =\n",
              "        document.querySelector('#id_2a4c0135-37a9-4699-9613-45d0a521a95f button.colab-df-generate');\n",
              "      buttonEl.style.display =\n",
              "        google.colab.kernel.accessAllowed ? 'block' : 'none';\n",
              "\n",
              "      buttonEl.onclick = () => {\n",
              "        google.colab.notebook.generateWithVariable('df1');\n",
              "      }\n",
              "      })();\n",
              "    </script>\n",
              "  </div>\n",
              "\n",
              "    </div>\n",
              "  </div>\n"
            ],
            "application/vnd.google.colaboratory.intrinsic+json": {
              "type": "dataframe",
              "variable_name": "df1",
              "summary": "{\n  \"name\": \"df1\",\n  \"rows\": 10,\n  \"fields\": [\n    {\n      \"column\": \"Test Input\",\n      \"properties\": {\n        \"dtype\": \"number\",\n        \"std\": 0.8030697840304064,\n        \"min\": 0.12694282086146402,\n        \"max\": 2.647429217504328,\n        \"num_unique_values\": 10,\n        \"samples\": [\n          1.2302200588085852,\n          1.9001287656565244,\n          1.2388254697490027\n        ],\n        \"semantic_type\": \"\",\n        \"description\": \"\"\n      }\n    },\n    {\n      \"column\": \"True Output\",\n      \"properties\": {\n        \"dtype\": \"number\",\n        \"std\": 1.5854662750571318,\n        \"min\": 9.974413671191092,\n        \"max\": 14.842352456486326,\n        \"num_unique_values\": 10,\n        \"samples\": [\n          12.098017068777105,\n          13.358554192434289,\n          12.071977656552585\n        ],\n        \"semantic_type\": \"\",\n        \"description\": \"\"\n      }\n    },\n    {\n      \"column\": \"Predicted Output\",\n      \"properties\": {\n        \"dtype\": \"number\",\n        \"std\": 1.5991902824018587,\n        \"min\": 9.81937371498978,\n        \"max\": 14.838535726301028,\n        \"num_unique_values\": 10,\n        \"samples\": [\n          12.016381089449029,\n          13.35040151381486,\n          12.033517445249796\n        ],\n        \"semantic_type\": \"\",\n        \"description\": \"\"\n      }\n    }\n  ]\n}"
            }
          },
          "metadata": {},
          "execution_count": 39
        }
      ],
      "id": "1d03bc56"
    },
    {
      "cell_type": "code",
      "source": [
        "# Calculate the mean sqaured error to evaluate the performance\n",
        "mse = np.mean((y_test - prediction)**2)\n",
        "print(f'The Means Squared Error:- {round(mse, 3)} (3dp).')"
      ],
      "metadata": {
        "id": "b1631e94",
        "execution": {
          "iopub.status.busy": "2022-12-14T11:21:08.614239Z",
          "iopub.execute_input": "2022-12-14T11:21:08.614763Z",
          "iopub.status.idle": "2022-12-14T11:21:08.623697Z",
          "shell.execute_reply.started": "2022-12-14T11:21:08.614730Z",
          "shell.execute_reply": "2022-12-14T11:21:08.622599Z"
        },
        "trusted": true,
        "outputId": "9f1e4be3-a647-4429-db5a-7e122dcb39dc",
        "colab": {
          "base_uri": "https://localhost:8080/"
        }
      },
      "execution_count": 40,
      "outputs": [
        {
          "output_type": "stream",
          "name": "stdout",
          "text": [
            "The Means Squared Error:- 0.009 (3dp).\n"
          ]
        }
      ],
      "id": "b1631e94"
    },
    {
      "cell_type": "code",
      "source": [
        "# Visualise the performance of the test data\n",
        "plt.figure(figsize = (10,4))\n",
        "plt.plot(X_test, prediction, color=\"k\", linewidth = 0.7)\n",
        "plt.scatter(X_test, y_test, color=\"c\", marker = '*', s = 20, zorder = 2)\n",
        "plt.title(\"Visualisig the performance of the test data\", color = 'red', weight = 'bold')\n",
        "plt.xlabel(\"Test Inputs\", color = 'm', fontsize = 13)\n",
        "plt.ylabel(\"Star Property\", color = 'm', fontsize = 13)\n",
        "plt.legend(['Predicted Linear Regression', 'True Values'], loc='lower right')\n",
        "plt.show()"
      ],
      "metadata": {
        "id": "79de7593",
        "execution": {
          "iopub.status.busy": "2022-12-14T11:21:08.625524Z",
          "iopub.execute_input": "2022-12-14T11:21:08.626114Z",
          "iopub.status.idle": "2022-12-14T11:21:08.818419Z",
          "shell.execute_reply.started": "2022-12-14T11:21:08.626068Z",
          "shell.execute_reply": "2022-12-14T11:21:08.817214Z"
        },
        "trusted": true,
        "outputId": "dcc581bf-f1e0-43be-c495-6fbac715c646",
        "colab": {
          "base_uri": "https://localhost:8080/",
          "height": 343
        }
      },
      "execution_count": 41,
      "outputs": [
        {
          "output_type": "display_data",
          "data": {
            "text/plain": [
              "<Figure size 1000x400 with 1 Axes>"
            ],
            "image/png": "[encoded data removed]"
          },
          "metadata": {}
        }
      ],
      "id": "79de7593"
    },
    {
      "cell_type": "markdown",
      "source": [
        "---\n",
        "\n",
        "## <center> Linear Regression using Scikit-Learn library\n",
        "\n",
        "---"
      ],
      "metadata": {
        "id": "wc3pPuthdN3F"
      },
      "id": "wc3pPuthdN3F"
    },
    {
      "cell_type": "markdown",
      "source": [
        "- Linear regression is a foundational algorithm in machine learning.\n",
        "- It is used for predicting a continuous target variable based on one or more input features.\n",
        "- Scikit-learn's `LinearRegression` module provides a straightforward way to implement this technique.\n",
        "- However, it uses Ordinary Least Square Regression to get the line of best fit.\n",
        "\n",
        "Let us compare our Gradient Descent method with sklearn's Ordinary Least Square Regression method...\n"
      ],
      "metadata": {
        "id": "QC-1e2a-xebA"
      },
      "id": "QC-1e2a-xebA"
    },
    {
      "cell_type": "markdown",
      "source": [
        "#### Step 1: Input Data\n",
        "\n",
        "**Gather your data:-**\n",
        "- You need a dataset with input features (independent variables) and corresponding target values (dependent variable).\n",
        "- Both of this data already defined for our usecase."
      ],
      "metadata": {
        "id": "d3eJX_sexwtC"
      },
      "id": "d3eJX_sexwtC"
    },
    {
      "cell_type": "code",
      "source": [
        "# Training data - first 5 sample\n",
        "print('First 5 Independent Feature:-\\n', x_train[:5])\n",
        "print()\n",
        "print('Rescpective Dependent Feature:-\\n', y_train[:5])"
      ],
      "metadata": {
        "id": "fUqWPxk-2CHv",
        "outputId": "6f0bb038-0147-4d61-b94e-9d1ea6a01991",
        "colab": {
          "base_uri": "https://localhost:8080/"
        }
      },
      "id": "fUqWPxk-2CHv",
      "execution_count": 43,
      "outputs": [
        {
          "output_type": "stream",
          "name": "stdout",
          "text": [
            "First 5 Independent Feature:-\n",
            " [[2.03830493]\n",
            " [2.46244583]\n",
            " [0.6105629 ]\n",
            " [2.49279797]\n",
            " [0.315371  ]]\n",
            "\n",
            "Rescpective Dependent Feature:-\n",
            " [[13.83913044]\n",
            " [14.68421789]\n",
            " [10.92929405]\n",
            " [14.89522263]\n",
            " [ 9.94561704]]\n"
          ]
        }
      ]
    },
    {
      "cell_type": "code",
      "source": [
        "# Testing data - first 5 sample\n",
        "print('First 5 Independent Feature:-\\n', X_test[:5])\n",
        "print()\n",
        "print('Rescpective Dependent Feature:-\\n', y_test[:5])"
      ],
      "metadata": {
        "id": "2Uwi6zkm2s_O",
        "outputId": "7f457a53-5cdd-4e18-e16f-ec89eb39c57e",
        "colab": {
          "base_uri": "https://localhost:8080/"
        }
      },
      "id": "2Uwi6zkm2s_O",
      "execution_count": 44,
      "outputs": [
        {
          "output_type": "stream",
          "name": "stdout",
          "text": [
            "First 5 Independent Feature:-\n",
            " [[0.72383636]\n",
            " [1.90012877]\n",
            " [0.12694282]\n",
            " [2.0264709 ]\n",
            " [2.64742922]]\n",
            "\n",
            "Rescpective Dependent Feature:-\n",
            " [[10.88938808]\n",
            " [13.35855419]\n",
            " [ 9.97441367]\n",
            " [13.56616042]\n",
            " [14.84235246]]\n"
          ]
        }
      ]
    },
    {
      "cell_type": "markdown",
      "source": [
        "#### Step 2: Import and Initialize\n",
        "\n",
        "**Import the necessary modules:-**\n",
        "- Import the `LinearRegression` class from scikit-learn's `linear_model` module.\n",
        "- [Here](https://github.com/scikit-learn/scikit-learn/blob/main/sklearn/linear_model/_base.py) is the official code from sklearn. Just press `ctrl+f` and search for `LinearRegression`.\n",
        "\n",
        "**Create a model instance:-**\n",
        "- Initialize a LinearRegression object.\n",
        "- This represents the linear relationship between the inputs and the target.\n"
      ],
      "metadata": {
        "id": "tM-h_gz-yEYV"
      },
      "id": "tM-h_gz-yEYV"
    },
    {
      "cell_type": "code",
      "source": [
        "from sklearn.linear_model import LinearRegression"
      ],
      "metadata": {
        "id": "35zR0qhudoQV"
      },
      "id": "35zR0qhudoQV",
      "execution_count": 45,
      "outputs": []
    },
    {
      "cell_type": "code",
      "source": [
        "sklearn_model = LinearRegression(fit_intercept=True,  # If true include intercept\n",
        "                                 copy_X=True,         # If true reserve a copy of X so that it remains unchanged\n",
        "                                 n_jobs=None,         # If none, single CPU core, no parallelization used\n",
        "                                 positive=False)      # If true, forces the coefficients to be positive"
      ],
      "metadata": {
        "id": "YSouZKZ9dzGy"
      },
      "id": "YSouZKZ9dzGy",
      "execution_count": 46,
      "outputs": []
    },
    {
      "cell_type": "markdown",
      "source": [
        "#### Step 3: Training\n",
        "\n",
        "**Fit the model:-**\n",
        "- Use the `fit()` method of the model to train it on your data.\n",
        "- The algorithm learns the coefficients and intercept that define the linear relationship.\n",
        "\n",
        "**Learning process:-**\n",
        "- The algorithm internally uses the least squares optimization method.\n",
        "- It is used to minimize the sum of squared differences between the actual target values and the predicted values."
      ],
      "metadata": {
        "id": "ehaeO8A9zPl4"
      },
      "id": "ehaeO8A9zPl4"
    },
    {
      "cell_type": "code",
      "source": [
        "sklearn_model.fit(x_train, y_train)"
      ],
      "metadata": {
        "id": "iiOX2w3fzvWE",
        "outputId": "363a08db-8840-40e3-e8e8-f26c210a3d0b",
        "colab": {
          "base_uri": "https://localhost:8080/",
          "height": 80
        }
      },
      "id": "iiOX2w3fzvWE",
      "execution_count": 47,
      "outputs": [
        {
          "output_type": "execute_result",
          "data": {
            "text/plain": [
              "LinearRegression()"
            ],
            "text/html": [
              "<style>#sk-container-id-1 {\n",
              "  /* Definition of color scheme common for light and dark mode */\n",
              "  --sklearn-color-text: black;\n",
              "  --sklearn-color-line: gray;\n",
              "  /* Definition of color scheme for unfitted estimators */\n",
              "  --sklearn-color-unfitted-level-0: #fff5e6;\n",
              "  --sklearn-color-unfitted-level-1: #f6e4d2;\n",
              "  --sklearn-color-unfitted-level-2: #ffe0b3;\n",
              "  --sklearn-color-unfitted-level-3: chocolate;\n",
              "  /* Definition of color scheme for fitted estimators */\n",
              "  --sklearn-color-fitted-level-0: #f0f8ff;\n",
              "  --sklearn-color-fitted-level-1: #d4ebff;\n",
              "  --sklearn-color-fitted-level-2: #b3dbfd;\n",
              "  --sklearn-color-fitted-level-3: cornflowerblue;\n",
              "\n",
              "  /* Specific color for light theme */\n",
              "  --sklearn-color-text-on-default-background: var(--sg-text-color, var(--theme-code-foreground, var(--jp-content-font-color1, black)));\n",
              "  --sklearn-color-background: var(--sg-background-color, var(--theme-background, var(--jp-layout-color0, white)));\n",
              "  --sklearn-color-border-box: var(--sg-text-color, var(--theme-code-foreground, var(--jp-content-font-color1, black)));\n",
              "  --sklearn-color-icon: #696969;\n",
              "\n",
              "  @media (prefers-color-scheme: dark) {\n",
              "    /* Redefinition of color scheme for dark theme */\n",
              "    --sklearn-color-text-on-default-background: var(--sg-text-color, var(--theme-code-foreground, var(--jp-content-font-color1, white)));\n",
              "    --sklearn-color-background: var(--sg-background-color, var(--theme-background, var(--jp-layout-color0, #111)));\n",
              "    --sklearn-color-border-box: var(--sg-text-color, var(--theme-code-foreground, var(--jp-content-font-color1, white)));\n",
              "    --sklearn-color-icon: #878787;\n",
              "  }\n",
              "}\n",
              "\n",
              "#sk-container-id-1 {\n",
              "  color: var(--sklearn-color-text);\n",
              "}\n",
              "\n",
              "#sk-container-id-1 pre {\n",
              "  padding: 0;\n",
              "}\n",
              "\n",
              "#sk-container-id-1 input.sk-hidden--visually {\n",
              "  border: 0;\n",
              "  clip: rect(1px 1px 1px 1px);\n",
              "  clip: rect(1px, 1px, 1px, 1px);\n",
              "  height: 1px;\n",
              "  margin: -1px;\n",
              "  overflow: hidden;\n",
              "  padding: 0;\n",
              "  position: absolute;\n",
              "  width: 1px;\n",
              "}\n",
              "\n",
              "#sk-container-id-1 div.sk-dashed-wrapped {\n",
              "  border: 1px dashed var(--sklearn-color-line);\n",
              "  margin: 0 0.4em 0.5em 0.4em;\n",
              "  box-sizing: border-box;\n",
              "  padding-bottom: 0.4em;\n",
              "  background-color: var(--sklearn-color-background);\n",
              "}\n",
              "\n",
              "#sk-container-id-1 div.sk-container {\n",
              "  /* jupyter's `normalize.less` sets `[hidden] { display: none; }`\n",
              "     but bootstrap.min.css set `[hidden] { display: none !important; }`\n",
              "     so we also need the `!important` here to be able to override the\n",
              "     default hidden behavior on the sphinx rendered scikit-learn.org.\n",
              "     See: https://github.com/scikit-learn/scikit-learn/issues/21755 */\n",
              "  display: inline-block !important;\n",
              "  position: relative;\n",
              "}\n",
              "\n",
              "#sk-container-id-1 div.sk-text-repr-fallback {\n",
              "  display: none;\n",
              "}\n",
              "\n",
              "div.sk-parallel-item,\n",
              "div.sk-serial,\n",
              "div.sk-item {\n",
              "  /* draw centered vertical line to link estimators */\n",
              "  background-image: linear-gradient(var(--sklearn-color-text-on-default-background), var(--sklearn-color-text-on-default-background));\n",
              "  background-size: 2px 100%;\n",
              "  background-repeat: no-repeat;\n",
              "  background-position: center center;\n",
              "}\n",
              "\n",
              "/* Parallel-specific style estimator block */\n",
              "\n",
              "#sk-container-id-1 div.sk-parallel-item::after {\n",
              "  content: \"\";\n",
              "  width: 100%;\n",
              "  border-bottom: 2px solid var(--sklearn-color-text-on-default-background);\n",
              "  flex-grow: 1;\n",
              "}\n",
              "\n",
              "#sk-container-id-1 div.sk-parallel {\n",
              "  display: flex;\n",
              "  align-items: stretch;\n",
              "  justify-content: center;\n",
              "  background-color: var(--sklearn-color-background);\n",
              "  position: relative;\n",
              "}\n",
              "\n",
              "#sk-container-id-1 div.sk-parallel-item {\n",
              "  display: flex;\n",
              "  flex-direction: column;\n",
              "}\n",
              "\n",
              "#sk-container-id-1 div.sk-parallel-item:first-child::after {\n",
              "  align-self: flex-end;\n",
              "  width: 50%;\n",
              "}\n",
              "\n",
              "#sk-container-id-1 div.sk-parallel-item:last-child::after {\n",
              "  align-self: flex-start;\n",
              "  width: 50%;\n",
              "}\n",
              "\n",
              "#sk-container-id-1 div.sk-parallel-item:only-child::after {\n",
              "  width: 0;\n",
              "}\n",
              "\n",
              "/* Serial-specific style estimator block */\n",
              "\n",
              "#sk-container-id-1 div.sk-serial {\n",
              "  display: flex;\n",
              "  flex-direction: column;\n",
              "  align-items: center;\n",
              "  background-color: var(--sklearn-color-background);\n",
              "  padding-right: 1em;\n",
              "  padding-left: 1em;\n",
              "}\n",
              "\n",
              "\n",
              "/* Toggleable style: style used for estimator/Pipeline/ColumnTransformer box that is\n",
              "clickable and can be expanded/collapsed.\n",
              "- Pipeline and ColumnTransformer use this feature and define the default style\n",
              "- Estimators will overwrite some part of the style using the `sk-estimator` class\n",
              "*/\n",
              "\n",
              "/* Pipeline and ColumnTransformer style (default) */\n",
              "\n",
              "#sk-container-id-1 div.sk-toggleable {\n",
              "  /* Default theme specific background. It is overwritten whether we have a\n",
              "  specific estimator or a Pipeline/ColumnTransformer */\n",
              "  background-color: var(--sklearn-color-background);\n",
              "}\n",
              "\n",
              "/* Toggleable label */\n",
              "#sk-container-id-1 label.sk-toggleable__label {\n",
              "  cursor: pointer;\n",
              "  display: block;\n",
              "  width: 100%;\n",
              "  margin-bottom: 0;\n",
              "  padding: 0.5em;\n",
              "  box-sizing: border-box;\n",
              "  text-align: center;\n",
              "}\n",
              "\n",
              "#sk-container-id-1 label.sk-toggleable__label-arrow:before {\n",
              "  /* Arrow on the left of the label */\n",
              "  content: \"▸\";\n",
              "  float: left;\n",
              "  margin-right: 0.25em;\n",
              "  color: var(--sklearn-color-icon);\n",
              "}\n",
              "\n",
              "#sk-container-id-1 label.sk-toggleable__label-arrow:hover:before {\n",
              "  color: var(--sklearn-color-text);\n",
              "}\n",
              "\n",
              "/* Toggleable content - dropdown */\n",
              "\n",
              "#sk-container-id-1 div.sk-toggleable__content {\n",
              "  max-height: 0;\n",
              "  max-width: 0;\n",
              "  overflow: hidden;\n",
              "  text-align: left;\n",
              "  /* unfitted */\n",
              "  background-color: var(--sklearn-color-unfitted-level-0);\n",
              "}\n",
              "\n",
              "#sk-container-id-1 div.sk-toggleable__content.fitted {\n",
              "  /* fitted */\n",
              "  background-color: var(--sklearn-color-fitted-level-0);\n",
              "}\n",
              "\n",
              "#sk-container-id-1 div.sk-toggleable__content pre {\n",
              "  margin: 0.2em;\n",
              "  border-radius: 0.25em;\n",
              "  color: var(--sklearn-color-text);\n",
              "  /* unfitted */\n",
              "  background-color: var(--sklearn-color-unfitted-level-0);\n",
              "}\n",
              "\n",
              "#sk-container-id-1 div.sk-toggleable__content.fitted pre {\n",
              "  /* unfitted */\n",
              "  background-color: var(--sklearn-color-fitted-level-0);\n",
              "}\n",
              "\n",
              "#sk-container-id-1 input.sk-toggleable__control:checked~div.sk-toggleable__content {\n",
              "  /* Expand drop-down */\n",
              "  max-height: 200px;\n",
              "  max-width: 100%;\n",
              "  overflow: auto;\n",
              "}\n",
              "\n",
              "#sk-container-id-1 input.sk-toggleable__control:checked~label.sk-toggleable__label-arrow:before {\n",
              "  content: \"▾\";\n",
              "}\n",
              "\n",
              "/* Pipeline/ColumnTransformer-specific style */\n",
              "\n",
              "#sk-container-id-1 div.sk-label input.sk-toggleable__control:checked~label.sk-toggleable__label {\n",
              "  color: var(--sklearn-color-text);\n",
              "  background-color: var(--sklearn-color-unfitted-level-2);\n",
              "}\n",
              "\n",
              "#sk-container-id-1 div.sk-label.fitted input.sk-toggleable__control:checked~label.sk-toggleable__label {\n",
              "  background-color: var(--sklearn-color-fitted-level-2);\n",
              "}\n",
              "\n",
              "/* Estimator-specific style */\n",
              "\n",
              "/* Colorize estimator box */\n",
              "#sk-container-id-1 div.sk-estimator input.sk-toggleable__control:checked~label.sk-toggleable__label {\n",
              "  /* unfitted */\n",
              "  background-color: var(--sklearn-color-unfitted-level-2);\n",
              "}\n",
              "\n",
              "#sk-container-id-1 div.sk-estimator.fitted input.sk-toggleable__control:checked~label.sk-toggleable__label {\n",
              "  /* fitted */\n",
              "  background-color: var(--sklearn-color-fitted-level-2);\n",
              "}\n",
              "\n",
              "#sk-container-id-1 div.sk-label label.sk-toggleable__label,\n",
              "#sk-container-id-1 div.sk-label label {\n",
              "  /* The background is the default theme color */\n",
              "  color: var(--sklearn-color-text-on-default-background);\n",
              "}\n",
              "\n",
              "/* On hover, darken the color of the background */\n",
              "#sk-container-id-1 div.sk-label:hover label.sk-toggleable__label {\n",
              "  color: var(--sklearn-color-text);\n",
              "  background-color: var(--sklearn-color-unfitted-level-2);\n",
              "}\n",
              "\n",
              "/* Label box, darken color on hover, fitted */\n",
              "#sk-container-id-1 div.sk-label.fitted:hover label.sk-toggleable__label.fitted {\n",
              "  color: var(--sklearn-color-text);\n",
              "  background-color: var(--sklearn-color-fitted-level-2);\n",
              "}\n",
              "\n",
              "/* Estimator label */\n",
              "\n",
              "#sk-container-id-1 div.sk-label label {\n",
              "  font-family: monospace;\n",
              "  font-weight: bold;\n",
              "  display: inline-block;\n",
              "  line-height: 1.2em;\n",
              "}\n",
              "\n",
              "#sk-container-id-1 div.sk-label-container {\n",
              "  text-align: center;\n",
              "}\n",
              "\n",
              "/* Estimator-specific */\n",
              "#sk-container-id-1 div.sk-estimator {\n",
              "  font-family: monospace;\n",
              "  border: 1px dotted var(--sklearn-color-border-box);\n",
              "  border-radius: 0.25em;\n",
              "  box-sizing: border-box;\n",
              "  margin-bottom: 0.5em;\n",
              "  /* unfitted */\n",
              "  background-color: var(--sklearn-color-unfitted-level-0);\n",
              "}\n",
              "\n",
              "#sk-container-id-1 div.sk-estimator.fitted {\n",
              "  /* fitted */\n",
              "  background-color: var(--sklearn-color-fitted-level-0);\n",
              "}\n",
              "\n",
              "/* on hover */\n",
              "#sk-container-id-1 div.sk-estimator:hover {\n",
              "  /* unfitted */\n",
              "  background-color: var(--sklearn-color-unfitted-level-2);\n",
              "}\n",
              "\n",
              "#sk-container-id-1 div.sk-estimator.fitted:hover {\n",
              "  /* fitted */\n",
              "  background-color: var(--sklearn-color-fitted-level-2);\n",
              "}\n",
              "\n",
              "/* Specification for estimator info (e.g. \"i\" and \"?\") */\n",
              "\n",
              "/* Common style for \"i\" and \"?\" */\n",
              "\n",
              ".sk-estimator-doc-link,\n",
              "a:link.sk-estimator-doc-link,\n",
              "a:visited.sk-estimator-doc-link {\n",
              "  float: right;\n",
              "  font-size: smaller;\n",
              "  line-height: 1em;\n",
              "  font-family: monospace;\n",
              "  background-color: var(--sklearn-color-background);\n",
              "  border-radius: 1em;\n",
              "  height: 1em;\n",
              "  width: 1em;\n",
              "  text-decoration: none !important;\n",
              "  margin-left: 1ex;\n",
              "  /* unfitted */\n",
              "  border: var(--sklearn-color-unfitted-level-1) 1pt solid;\n",
              "  color: var(--sklearn-color-unfitted-level-1);\n",
              "}\n",
              "\n",
              ".sk-estimator-doc-link.fitted,\n",
              "a:link.sk-estimator-doc-link.fitted,\n",
              "a:visited.sk-estimator-doc-link.fitted {\n",
              "  /* fitted */\n",
              "  border: var(--sklearn-color-fitted-level-1) 1pt solid;\n",
              "  color: var(--sklearn-color-fitted-level-1);\n",
              "}\n",
              "\n",
              "/* On hover */\n",
              "div.sk-estimator:hover .sk-estimator-doc-link:hover,\n",
              ".sk-estimator-doc-link:hover,\n",
              "div.sk-label-container:hover .sk-estimator-doc-link:hover,\n",
              ".sk-estimator-doc-link:hover {\n",
              "  /* unfitted */\n",
              "  background-color: var(--sklearn-color-unfitted-level-3);\n",
              "  color: var(--sklearn-color-background);\n",
              "  text-decoration: none;\n",
              "}\n",
              "\n",
              "div.sk-estimator.fitted:hover .sk-estimator-doc-link.fitted:hover,\n",
              ".sk-estimator-doc-link.fitted:hover,\n",
              "div.sk-label-container:hover .sk-estimator-doc-link.fitted:hover,\n",
              ".sk-estimator-doc-link.fitted:hover {\n",
              "  /* fitted */\n",
              "  background-color: var(--sklearn-color-fitted-level-3);\n",
              "  color: var(--sklearn-color-background);\n",
              "  text-decoration: none;\n",
              "}\n",
              "\n",
              "/* Span, style for the box shown on hovering the info icon */\n",
              ".sk-estimator-doc-link span {\n",
              "  display: none;\n",
              "  z-index: 9999;\n",
              "  position: relative;\n",
              "  font-weight: normal;\n",
              "  right: .2ex;\n",
              "  padding: .5ex;\n",
              "  margin: .5ex;\n",
              "  width: min-content;\n",
              "  min-width: 20ex;\n",
              "  max-width: 50ex;\n",
              "  color: var(--sklearn-color-text);\n",
              "  box-shadow: 2pt 2pt 4pt #999;\n",
              "  /* unfitted */\n",
              "  background: var(--sklearn-color-unfitted-level-0);\n",
              "  border: .5pt solid var(--sklearn-color-unfitted-level-3);\n",
              "}\n",
              "\n",
              ".sk-estimator-doc-link.fitted span {\n",
              "  /* fitted */\n",
              "  background: var(--sklearn-color-fitted-level-0);\n",
              "  border: var(--sklearn-color-fitted-level-3);\n",
              "}\n",
              "\n",
              ".sk-estimator-doc-link:hover span {\n",
              "  display: block;\n",
              "}\n",
              "\n",
              "/* \"?\"-specific style due to the `<a>` HTML tag */\n",
              "\n",
              "#sk-container-id-1 a.estimator_doc_link {\n",
              "  float: right;\n",
              "  font-size: 1rem;\n",
              "  line-height: 1em;\n",
              "  font-family: monospace;\n",
              "  background-color: var(--sklearn-color-background);\n",
              "  border-radius: 1rem;\n",
              "  height: 1rem;\n",
              "  width: 1rem;\n",
              "  text-decoration: none;\n",
              "  /* unfitted */\n",
              "  color: var(--sklearn-color-unfitted-level-1);\n",
              "  border: var(--sklearn-color-unfitted-level-1) 1pt solid;\n",
              "}\n",
              "\n",
              "#sk-container-id-1 a.estimator_doc_link.fitted {\n",
              "  /* fitted */\n",
              "  border: var(--sklearn-color-fitted-level-1) 1pt solid;\n",
              "  color: var(--sklearn-color-fitted-level-1);\n",
              "}\n",
              "\n",
              "/* On hover */\n",
              "#sk-container-id-1 a.estimator_doc_link:hover {\n",
              "  /* unfitted */\n",
              "  background-color: var(--sklearn-color-unfitted-level-3);\n",
              "  color: var(--sklearn-color-background);\n",
              "  text-decoration: none;\n",
              "}\n",
              "\n",
              "#sk-container-id-1 a.estimator_doc_link.fitted:hover {\n",
              "  /* fitted */\n",
              "  background-color: var(--sklearn-color-fitted-level-3);\n",
              "}\n",
              "</style><div id=\"sk-container-id-1\" class=\"sk-top-container\"><div class=\"sk-text-repr-fallback\"><pre>LinearRegression()</pre><b>In a Jupyter environment, please rerun this cell to show the HTML representation or trust the notebook. <br />On GitHub, the HTML representation is unable to render, please try loading this page with nbviewer.org.</b></div><div class=\"sk-container\" hidden><div class=\"sk-item\"><div class=\"sk-estimator fitted sk-toggleable\"><input class=\"sk-toggleable__control sk-hidden--visually\" id=\"sk-estimator-id-1\" type=\"checkbox\" checked><label for=\"sk-estimator-id-1\" class=\"sk-toggleable__label fitted sk-toggleable__label-arrow fitted\">&nbsp;&nbsp;LinearRegression<a class=\"sk-estimator-doc-link fitted\" rel=\"noreferrer\" target=\"_blank\" href=\"https://scikit-learn.org/1.5/modules/generated/sklearn.linear_model.LinearRegression.html\">?<span>Documentation for LinearRegression</span></a><span class=\"sk-estimator-doc-link fitted\">i<span>Fitted</span></span></label><div class=\"sk-toggleable__content fitted\"><pre>LinearRegression()</pre></div> </div></div></div></div>"
            ]
          },
          "metadata": {},
          "execution_count": 47
        }
      ]
    },
    {
      "cell_type": "code",
      "source": [
        "print('Scikit-Learn model:-')\n",
        "print('Optimal Weight = {}'.format(sklearn_model.coef_[0][0]))\n",
        "print('Optimal Bias = {}'.format(sklearn_model.intercept_[0]))\n",
        "\n",
        "print()\n",
        "\n",
        "print('Scratch model:-')\n",
        "print('Optimal Weight = {}'.format(weights[-1]))\n",
        "print('Optimal Bias = {}'.format(biases[-1]))"
      ],
      "metadata": {
        "id": "W6OmdUiCfe7m",
        "outputId": "a0559aec-0f59-467f-fb07-caac8e101a6e",
        "colab": {
          "base_uri": "https://localhost:8080/"
        }
      },
      "id": "W6OmdUiCfe7m",
      "execution_count": 48,
      "outputs": [
        {
          "output_type": "stream",
          "name": "stdout",
          "text": [
            "Scikit-Learn model:-\n",
            "Optimal Weight = 1.991342880547398\n",
            "Optimal Bias = 9.566593479258502\n",
            "\n",
            "Scratch model:-\n",
            "Optimal Weight = 1.991346598020315\n",
            "Optimal Bias = 9.5665865605242\n"
          ]
        }
      ]
    },
    {
      "cell_type": "markdown",
      "source": [
        "#### Step 4: Prediction\n",
        "\n",
        "**Make predictions:-**\n",
        "- Once the model is trained, you can use the `predict()` method to make predictions on new data points.\n",
        "- The model applies the learned linear relationship to these inputs."
      ],
      "metadata": {
        "id": "WKoJswlAz37-"
      },
      "id": "WKoJswlAz37-"
    },
    {
      "cell_type": "code",
      "source": [
        "predictions = sklearn_model.predict(X_test)\n",
        "mse_skl = np.mean((y_test - predictions)**2)\n",
        "print(f\"The MSE value of sklearn model:- {round(mse_skl, 5)} (5dp)\")\n",
        "print(f\"The MSE value of scratch model:- {round(mse, 5)} (5dp)\")"
      ],
      "metadata": {
        "id": "xvyW8fice8eg",
        "outputId": "508b036d-c821-4412-ab95-8cf21eb9029f",
        "colab": {
          "base_uri": "https://localhost:8080/"
        }
      },
      "id": "xvyW8fice8eg",
      "execution_count": 49,
      "outputs": [
        {
          "output_type": "stream",
          "name": "stdout",
          "text": [
            "The MSE value of sklearn model:- 0.00901 (5dp)\n",
            "The MSE value of scratch model:- 0.00901 (5dp)\n"
          ]
        }
      ]
    },
    {
      "cell_type": "markdown",
      "source": [
        "* Both the Gradient Desecent and Ordinary Least Square Regression methods are performing well!"
      ],
      "metadata": {
        "id": "S_2mJ2KQq2xp"
      },
      "id": "S_2mJ2KQq2xp"
    },
    {
      "cell_type": "code",
      "source": [
        "# Visualise the performance of the test data\n",
        "plt.figure(figsize = (10,5))\n",
        "plt.plot(X_test, prediction, color=\"k\", label=\"predicted\", linewidth = 0.7)\n",
        "plt.plot(X_test, predictions,  \"g--\", label=\"predicted\", linewidth = 0.7)\n",
        "plt.scatter(X_test, y_test, color=\"c\", label=\"original\", marker = 'x', s = 20, zorder = 2)\n",
        "plt.title(f\"Visulaising the performance on the test data\", color = 'red')\n",
        "plt.xlabel(\"Test Inputs\", color = 'm', fontsize = 11)\n",
        "plt.ylabel(\"Star Property\", color = 'm', fontsize = 11)\n",
        "plt.legend(['Scratch Model', 'Scikit-Learn Model', 'True Values', ], loc = 'lower right')\n",
        "plt.show()"
      ],
      "metadata": {
        "id": "7Z521_QjhK2M",
        "outputId": "272b6637-17ac-4eca-f248-7f26f088b983",
        "colab": {
          "base_uri": "https://localhost:8080/",
          "height": 405
        }
      },
      "id": "7Z521_QjhK2M",
      "execution_count": 50,
      "outputs": [
        {
          "output_type": "display_data",
          "data": {
            "text/plain": [
              "<Figure size 1000x500 with 1 Axes>"
            ],
            "image/png": "[encoded data removed]"
          },
          "metadata": {}
        }
      ]
    },
    {
      "cell_type": "markdown",
      "source": [
        "* Just look at how similar predictions we are getting!\n",
        "* Now that you have learnt gradient descent algorithm, it will be very useful in some of the upcoming lectures."
      ],
      "metadata": {
        "id": "wCBTnxRcq_6H"
      },
      "id": "wCBTnxRcq_6H"
    },
    {
      "cell_type": "markdown",
      "source": [
        "### Ending Notes\n",
        "- Remember, while Linear Regression is powerful, it's just the beginning.\n",
        "- Machine learning offers a vast array of algorithms for different tasks, each with its strengths and weaknesses.\n",
        "- We shall dive deeper into this exciting field to explore more advanced techniques in the upcoming days."
      ],
      "metadata": {
        "id": "qaqHdMI31KdC"
      },
      "id": "qaqHdMI31KdC"
    },
    {
      "cell_type": "markdown",
      "source": [
        "---"
      ],
      "metadata": {
        "id": "ILDZ0rPTaEJb"
      },
      "id": "ILDZ0rPTaEJb"
    }
  ]
}