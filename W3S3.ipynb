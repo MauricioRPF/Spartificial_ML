{
  "metadata": {
    "kernelspec": {
      "name": "python3",
      "display_name": "Python 3"
    },
    "language_info": {
      "name": "python",
      "version": "3.7.12",
      "mimetype": "text/x-python",
      "codemirror_mode": {
        "name": "ipython",
        "version": 3
      },
      "pygments_lexer": "ipython3",
      "nbconvert_exporter": "python",
      "file_extension": ".py"
    },
    "colab": {
      "provenance": []
    }
  },
  "nbformat_minor": 5,
  "nbformat": 4,
  "cells": [
    {
      "cell_type": "markdown",
      "source": [
        "# <center> Predicting Star Size | Linear Regression\n",
        "---\n",
        "\n",
        "<center> <img src = 'https://drive.google.com/uc?id=1Wr3rLlNCBU5qjr1s7o1l-O3DjgLDZIJi' width = 100%>\n",
        "\n",
        "---\n",
        "\n",
        "## <center> Linear Regression from Scratch\n",
        "\n",
        "---\n",
        "    \n"
      ],
      "metadata": {
        "id": "5hnR8DNhlCau"
      },
      "id": "5hnR8DNhlCau"
    },
    {
      "cell_type": "markdown",
      "source": [
        "**Recall the following topics before we start today's session:-**        \n",
        "**1)** Supervised Learning - When we train the ML algorithms with labeled data.       \n",
        "**2)** Forward Propagation - Consists of two steps which are computing the predicted output and the cost function.         \n",
        "**3)** Backpropagation - Consists of optimization algorithm which will be used to update the model parameters.         \n",
        "**4)** Training - For each epoch we calculate the loss and then update the model parameters.            \n",
        "**5)** Testing - Using new inputs whose respective outputs if we know, we can check how our model is performing.         \n",
        "\n",
        "    \n",
        "**Python Libraires that we need today:-**           \n",
        "**1)** NumPy       \n",
        "**2)** Matplotlib        \n",
        "**3)** Pandas\n",
        "    \n",
        "                                "
      ],
      "metadata": {
        "id": "38Zzj8-CVsDU"
      },
      "id": "38Zzj8-CVsDU"
    },
    {
      "cell_type": "markdown",
      "source": [
        "## Generating the Data for Linear Regression\n"
      ],
      "metadata": {
        "id": "usi6txxdlCax"
      },
      "id": "usi6txxdlCax"
    },
    {
      "cell_type": "code",
      "source": [
        "# Importing Libraries (numpy and pyplot)\n",
        "import numpy as np\n",
        "import matplotlib.pyplot as plt\n",
        "import pandas as pd"
      ],
      "metadata": {
        "id": "wqogQ0zflCay",
        "execution": {
          "iopub.status.busy": "2022-12-14T11:21:07.677357Z",
          "iopub.execute_input": "2022-12-14T11:21:07.677891Z",
          "iopub.status.idle": "2022-12-14T11:21:07.707082Z",
          "shell.execute_reply.started": "2022-12-14T11:21:07.677771Z",
          "shell.execute_reply": "2022-12-14T11:21:07.706177Z"
        },
        "trusted": true
      },
      "execution_count": 1,
      "outputs": [],
      "id": "wqogQ0zflCay"
    },
    {
      "cell_type": "code",
      "source": [
        "# Use seed value of 100 so that everyone gets the same output!\n",
        "\n",
        "\n",
        "# Generating Randomized dataset --> X_train and y_train\n",
        "'''\n",
        "X_train = 3*random numbers between 0 and 1 of shape (100, 1)\n",
        "y_train = 9 + 2*X_train + noise, where noise is a random number between 0 and 1 and its shape is (100, 1)\n",
        "The noise will allow to have some randomness in output instead of it simply being in a straight line\n",
        "\n",
        "Our goal of this session is to train ML model --> Linear Regression to predict the values of 9 and 2 in y_train\n",
        "In reality, we don't have y_train formula. Hence, we make ML model to predict what should be the formula!\n",
        "'''\n",
        "x_train = np.random.random((100,1))*3\n",
        "noise = np.random.random((100,1))\n",
        "y_train = 9 + 2*x_train + noise\n",
        "\n",
        "# Scatter plot --> Figsize is (8,6), Xlabel is brightness, ylabel is Size, add title\n",
        "\n",
        "plt.figure(figsize=(8,6))\n",
        "plt.scatter(x_train,y_train,color='m')\n",
        "plt.title('Scatter Plot')\n",
        "plt.xlabel('Brightness')\n",
        "plt.y label('Size')\n",
        "plt.show()\n",
        "\n"
      ],
      "metadata": {
        "id": "8135c1d1",
        "execution": {
          "iopub.status.busy": "2022-12-14T11:21:07.709092Z",
          "iopub.execute_input": "2022-12-14T11:21:07.710336Z",
          "iopub.status.idle": "2022-12-14T11:21:07.991112Z",
          "shell.execute_reply.started": "2022-12-14T11:21:07.710288Z",
          "shell.execute_reply": "2022-12-14T11:21:07.990254Z"
        },
        "trusted": true,
        "outputId": "e7327e9f-b122-4ce0-acf5-6da4f7393423",
        "colab": {
          "base_uri": "https://localhost:8080/",
          "height": 564
        }
      },
      "execution_count": 12,
      "outputs": [
        {
          "output_type": "display_data",
          "data": {
            "text/plain": [
              "<Figure size 800x600 with 1 Axes>"
            ],
            "image/png": "[encoded data removed]"
          },
          "metadata": {}
        }
      ],
      "id": "8135c1d1"
    },
    {
      "cell_type": "code",
      "source": [
        "# Print first 5 values in X_train and y_train\n",
        "print(x_train[:5])\n",
        "print()\n",
        "print(y_train[:5])\n",
        "\n"
      ],
      "metadata": {
        "id": "EjiGClgOENjn",
        "execution": {
          "iopub.status.busy": "2022-12-14T11:21:07.992361Z",
          "iopub.execute_input": "2022-12-14T11:21:07.993206Z",
          "iopub.status.idle": "2022-12-14T11:21:07.999926Z",
          "shell.execute_reply.started": "2022-12-14T11:21:07.993170Z",
          "shell.execute_reply": "2022-12-14T11:21:07.998527Z"
        },
        "trusted": true,
        "outputId": "62dee938-462a-4d65-8148-7efab55c7e4d",
        "colab": {
          "base_uri": "https://localhost:8080/"
        }
      },
      "execution_count": 6,
      "outputs": [
        {
          "output_type": "stream",
          "name": "stdout",
          "text": [
            "[[1.08651304]\n",
            " [1.31425559]\n",
            " [1.35741069]\n",
            " [0.13324548]\n",
            " [0.79053963]]\n",
            "\n",
            "[[12.02617059]\n",
            " [11.74641373]\n",
            " [12.44816943]\n",
            " [ 9.70917928]\n",
            " [11.40538321]]\n"
          ]
        }
      ],
      "id": "EjiGClgOENjn"
    },
    {
      "cell_type": "code",
      "source": [
        "# Check what happens if you remove the noise! --> Remove noise from the y_train and plot again\n",
        "noiseless_y_train = 9 + 2*x_train\n",
        "\n",
        "plt.scatter(x_train,noiseless_y_train,color='m')\n",
        "plt.title('Scatter Plot')\n",
        "plt.show()"
      ],
      "metadata": {
        "id": "hB1w0wKew-9p",
        "outputId": "fbef1932-1daf-4beb-9f79-1b35004e06c2",
        "colab": {
          "base_uri": "https://localhost:8080/",
          "height": 452
        }
      },
      "id": "hB1w0wKew-9p",
      "execution_count": 9,
      "outputs": [
        {
          "output_type": "display_data",
          "data": {
            "text/plain": [
              "<Figure size 640x480 with 1 Axes>"
            ],
            "image/png": "[encoded data removed]"
          },
          "metadata": {}
        }
      ]
    },
    {
      "cell_type": "markdown",
      "source": [
        "## Model Parameters and Hyperparameters\n",
        "\n",
        "Remember that instead of using gradient and y-intercept, we will be using the actual model parameters for ML algorithms - Weight and Bias!"
      ],
      "metadata": {
        "id": "C3qy8Ov6lCa0"
      },
      "id": "C3qy8Ov6lCa0"
    },
    {
      "cell_type": "code",
      "source": [
        "# Initialise the weight (W) and bias (b) to 0\n",
        "W =0\n",
        "b =0\n",
        "\n",
        "# Hyperparameters --> Choose approproate learning_rate (0.01)\n",
        "learning_rate = 0.01\n"
      ],
      "metadata": {
        "id": "22397f92",
        "execution": {
          "iopub.status.busy": "2022-12-14T11:21:08.002586Z",
          "iopub.execute_input": "2022-12-14T11:21:08.003031Z",
          "iopub.status.idle": "2022-12-14T11:21:08.012646Z",
          "shell.execute_reply.started": "2022-12-14T11:21:08.002998Z",
          "shell.execute_reply": "2022-12-14T11:21:08.011288Z"
        },
        "trusted": true
      },
      "execution_count": 13,
      "outputs": [],
      "id": "22397f92"
    },
    {
      "cell_type": "markdown",
      "source": [
        "<img src = \"https://drive.google.com/uc?id=1mFaXv4XF-_b-jyP_MK2vfgYfB2dVd4RZ\">\n",
        "\n",
        "## Computing equations for the forward propagation"
      ],
      "metadata": {
        "id": "uXi2j5fVlCa1"
      },
      "id": "uXi2j5fVlCa1"
    },
    {
      "cell_type": "code",
      "source": [
        "# Create a function for Predicted Output\n",
        "def predict(X, W, b):\n",
        "    '''\n",
        "    ------Parameters------\n",
        "\n",
        "    X - Inputs\n",
        "    W - Weight\n",
        "    b - Bias\n",
        "\n",
        "    Returns - Predicted output\n",
        "    '''\n",
        "    y_pred = W*X + b\n",
        "\n",
        "    return y_pred\n",
        "\n",
        "# MSE cost function\n",
        "def cost_function(X, y, W, b):\n",
        "    '''\n",
        "    y - target values / true values\n",
        "    Returns - MSE\n",
        "    '''\n",
        "    error = y - predict(X, W, b)\n",
        "    error_squared = y - (predict(X, W, b))**2\n",
        "    cost = np.mean(error_squared)\n",
        "\n",
        "    return cost"
      ],
      "metadata": {
        "id": "f6643906",
        "execution": {
          "iopub.status.busy": "2022-12-14T11:21:08.026493Z",
          "iopub.execute_input": "2022-12-14T11:21:08.026885Z",
          "iopub.status.idle": "2022-12-14T11:21:08.036996Z",
          "shell.execute_reply.started": "2022-12-14T11:21:08.026844Z",
          "shell.execute_reply": "2022-12-14T11:21:08.035848Z"
        },
        "trusted": true
      },
      "execution_count": 17,
      "outputs": [],
      "id": "f6643906"
    },
    {
      "cell_type": "code",
      "source": [
        "# Testing functions\n",
        "cost_function(x_train, y_train, W, b)"
      ],
      "metadata": {
        "id": "hSzA8WRncTwJ",
        "outputId": "1bb919a5-4022-4b9f-d0dc-aa7c9afffd05",
        "colab": {
          "base_uri": "https://localhost:8080/"
        }
      },
      "id": "hSzA8WRncTwJ",
      "execution_count": 18,
      "outputs": [
        {
          "output_type": "execute_result",
          "data": {
            "text/plain": [
              "12.576875366169604"
            ]
          },
          "metadata": {},
          "execution_count": 18
        }
      ]
    },
    {
      "cell_type": "markdown",
      "source": [
        "<img src = 'https://drive.google.com/uc?id=1ZlXFrHr4ix4w2ND9e1QMZqaMuplh-PTh'>\n",
        "\n",
        "## Computing equations for the backpropagation\n"
      ],
      "metadata": {
        "id": "1U2-9DjSXbT1"
      },
      "id": "1U2-9DjSXbT1"
    },
    {
      "cell_type": "code",
      "source": [
        "def update_weights(X, y, W, b, learning_rate):\n",
        "    '''\n",
        "    This function computes all the equations needed for the backpropagation in Linear Regression\n",
        "    '''\n",
        "    pass"
      ],
      "metadata": {
        "id": "ba1cd681",
        "execution": {
          "iopub.status.busy": "2022-12-14T11:21:08.038740Z",
          "iopub.execute_input": "2022-12-14T11:21:08.039166Z",
          "iopub.status.idle": "2022-12-14T11:21:08.049570Z",
          "shell.execute_reply.started": "2022-12-14T11:21:08.039130Z",
          "shell.execute_reply": "2022-12-14T11:21:08.048520Z"
        },
        "trusted": true
      },
      "execution_count": null,
      "outputs": [],
      "id": "ba1cd681"
    },
    {
      "cell_type": "code",
      "source": [
        "# Epoch by epoch train the linear regression to get the best value for W and b\n",
        "def train(X, y, W, b, learning_rate, tol=1e-13, verbose=False):\n",
        "    '''\n",
        "    This function trains the linear regression epoch by epoch\n",
        "    tol - Threshold for when the training should stop based on convergence\n",
        "    verbose - Display the training if it is set to True\n",
        "    '''\n",
        "    pass"
      ],
      "metadata": {
        "id": "bf2d8e30",
        "execution": {
          "iopub.status.busy": "2022-12-14T11:21:08.051429Z",
          "iopub.execute_input": "2022-12-14T11:21:08.052106Z",
          "iopub.status.idle": "2022-12-14T11:21:08.065419Z",
          "shell.execute_reply.started": "2022-12-14T11:21:08.052069Z",
          "shell.execute_reply": "2022-12-14T11:21:08.064089Z"
        },
        "trusted": true
      },
      "execution_count": null,
      "outputs": [],
      "id": "bf2d8e30"
    },
    {
      "cell_type": "code",
      "source": [
        "# Train the linear regression model\n",
        "weights, biases, costs, iteration_count = train(X_train, y_train, W, b, learning_rate, verbose=True)"
      ],
      "metadata": {
        "id": "11396b5c",
        "execution": {
          "iopub.status.busy": "2022-12-14T11:21:08.069104Z",
          "iopub.execute_input": "2022-12-14T11:21:08.070125Z",
          "iopub.status.idle": "2022-12-14T11:21:08.386822Z",
          "shell.execute_reply.started": "2022-12-14T11:21:08.070085Z",
          "shell.execute_reply": "2022-12-14T11:21:08.385549Z"
        },
        "trusted": true
      },
      "execution_count": null,
      "outputs": [],
      "id": "11396b5c"
    },
    {
      "cell_type": "code",
      "source": [
        "# Comparing initial and final values\n",
        "initial = [weights[0], biases[0], costs[0]]\n",
        "final = [weights[-1], biases[-1], costs[-1]]\n",
        "df = pd.DataFrame(list(zip(initial,final)),\n",
        "                  columns = ['Initial', 'Final'],\n",
        "                  index = ['Weight', 'Bias', 'Cost'])\n",
        "df"
      ],
      "metadata": {
        "id": "d59d388b",
        "execution": {
          "iopub.status.busy": "2022-12-14T11:21:08.388563Z",
          "iopub.execute_input": "2022-12-14T11:21:08.389343Z",
          "iopub.status.idle": "2022-12-14T11:21:08.413569Z",
          "shell.execute_reply.started": "2022-12-14T11:21:08.389294Z",
          "shell.execute_reply": "2022-12-14T11:21:08.412495Z"
        },
        "trusted": true
      },
      "execution_count": null,
      "outputs": [],
      "id": "d59d388b"
    },
    {
      "cell_type": "code",
      "source": [
        "# Visualising the cost wrt epochs\n",
        "plt.figure(figsize=(10, 4))\n",
        "plt.plot(costs, color='m')\n",
        "plt.xlabel('Epochs', color='blue')\n",
        "plt.ylabel('Costs', color='blue')\n",
        "plt.title('Costs vs Epochs', weight='bold', color='maroon')\n",
        "plt.show()\n",
        "\n"
      ],
      "metadata": {
        "id": "7384e581",
        "execution": {
          "iopub.status.busy": "2022-12-14T11:21:08.415184Z",
          "iopub.execute_input": "2022-12-14T11:21:08.415673Z",
          "iopub.status.idle": "2022-12-14T11:21:08.591299Z",
          "shell.execute_reply.started": "2022-12-14T11:21:08.415627Z",
          "shell.execute_reply": "2022-12-14T11:21:08.590040Z"
        },
        "trusted": true
      },
      "execution_count": null,
      "outputs": [],
      "id": "7384e581"
    },
    {
      "cell_type": "code",
      "source": [
        "# Define a seed value (using different seed value compared to trianing set to avoid data leakage!) --> 5007\n",
        "np.random.seed(5007)  # This number was choose to get the optimal results with random values\n",
        "\n",
        "# Test data\n",
        "X_test = 3*np.random.rand(10,1)\n",
        "y_test = 9 + 2*X_test + np.random.rand(10,1)\n",
        "\n",
        "prediction = predict(X_test, weights[-1], biases[-1])\n",
        "\n",
        "# DataFrame to compare true and predicted outputs on test inputs\n",
        "df1 = pd.DataFrame(list(zip(X_test.reshape(10,), y_test.reshape(10,), prediction.reshape(10,))),\n",
        "                  columns = ['Test Input', 'True Output', 'Predicted Output'])\n",
        "df1"
      ],
      "metadata": {
        "id": "1d03bc56",
        "execution": {
          "iopub.status.busy": "2022-12-14T11:21:08.592750Z",
          "iopub.execute_input": "2022-12-14T11:21:08.593130Z",
          "iopub.status.idle": "2022-12-14T11:21:08.601268Z",
          "shell.execute_reply.started": "2022-12-14T11:21:08.593099Z",
          "shell.execute_reply": "2022-12-14T11:21:08.599852Z"
        },
        "trusted": true
      },
      "execution_count": null,
      "outputs": [],
      "id": "1d03bc56"
    },
    {
      "cell_type": "code",
      "source": [
        "# Calculate the mean sqaured error to evaluate the performance\n",
        "mse = np.mean((y_test - prediction)**2)\n",
        "print(f'The Means Squared Error:- {round(mse, 3)} (3dp).')"
      ],
      "metadata": {
        "id": "b1631e94",
        "execution": {
          "iopub.status.busy": "2022-12-14T11:21:08.614239Z",
          "iopub.execute_input": "2022-12-14T11:21:08.614763Z",
          "iopub.status.idle": "2022-12-14T11:21:08.623697Z",
          "shell.execute_reply.started": "2022-12-14T11:21:08.614730Z",
          "shell.execute_reply": "2022-12-14T11:21:08.622599Z"
        },
        "trusted": true
      },
      "execution_count": null,
      "outputs": [],
      "id": "b1631e94"
    },
    {
      "cell_type": "code",
      "source": [
        "# Visualise the performance of the test data\n",
        "plt.figure(figsize = (10,4))\n",
        "plt.plot(X_test, prediction, color=\"k\", linewidth = 0.7)\n",
        "plt.scatter(X_test, y_test, color=\"c\", marker = '*', s = 20, zorder = 2)\n",
        "plt.title(\"Visualisig the performance of the test data\", color = 'red', weight = 'bold')\n",
        "plt.xlabel(\"Test Inputs\", color = 'm', fontsize = 13)\n",
        "plt.ylabel(\"Star Property\", color = 'm', fontsize = 13)\n",
        "plt.legend(['Predicted Linear Regression', 'True Values'], loc='lower right')\n",
        "plt.show()"
      ],
      "metadata": {
        "id": "79de7593",
        "execution": {
          "iopub.status.busy": "2022-12-14T11:21:08.625524Z",
          "iopub.execute_input": "2022-12-14T11:21:08.626114Z",
          "iopub.status.idle": "2022-12-14T11:21:08.818419Z",
          "shell.execute_reply.started": "2022-12-14T11:21:08.626068Z",
          "shell.execute_reply": "2022-12-14T11:21:08.817214Z"
        },
        "trusted": true
      },
      "execution_count": null,
      "outputs": [],
      "id": "79de7593"
    },
    {
      "cell_type": "markdown",
      "source": [
        "---\n",
        "\n",
        "## <center> Linear Regression using Scikit-Learn library\n",
        "\n",
        "---"
      ],
      "metadata": {
        "id": "wc3pPuthdN3F"
      },
      "id": "wc3pPuthdN3F"
    },
    {
      "cell_type": "markdown",
      "source": [
        "- Linear regression is a foundational algorithm in machine learning.\n",
        "- It is used for predicting a continuous target variable based on one or more input features.\n",
        "- Scikit-learn's `LinearRegression` module provides a straightforward way to implement this technique.\n",
        "- However, it uses Ordinary Least Square Regression to get the line of best fit.\n",
        "\n",
        "Let us compare our Gradient Descent method with sklearn's Ordinary Least Square Regression method...\n"
      ],
      "metadata": {
        "id": "QC-1e2a-xebA"
      },
      "id": "QC-1e2a-xebA"
    },
    {
      "cell_type": "markdown",
      "source": [
        "#### Step 1: Input Data\n",
        "\n",
        "**Gather your data:-**\n",
        "- You need a dataset with input features (independent variables) and corresponding target values (dependent variable).\n",
        "- Both of this data already defined for our usecase."
      ],
      "metadata": {
        "id": "d3eJX_sexwtC"
      },
      "id": "d3eJX_sexwtC"
    },
    {
      "cell_type": "code",
      "source": [
        "# Training data - first 5 sample\n",
        "print('First 5 Independent Feature:-\\n', X_train[:5])\n",
        "print()\n",
        "print('Rescpective Dependent Feature:-\\n', y_train[:5])"
      ],
      "metadata": {
        "id": "fUqWPxk-2CHv"
      },
      "id": "fUqWPxk-2CHv",
      "execution_count": null,
      "outputs": []
    },
    {
      "cell_type": "code",
      "source": [
        "# Testing data - first 5 sample\n",
        "print('First 5 Independent Feature:-\\n', X_test[:5])\n",
        "print()\n",
        "print('Rescpective Dependent Feature:-\\n', y_test[:5])"
      ],
      "metadata": {
        "id": "2Uwi6zkm2s_O"
      },
      "id": "2Uwi6zkm2s_O",
      "execution_count": null,
      "outputs": []
    },
    {
      "cell_type": "markdown",
      "source": [
        "#### Step 2: Import and Initialize\n",
        "\n",
        "**Import the necessary modules:-**\n",
        "- Import the `LinearRegression` class from scikit-learn's `linear_model` module.\n",
        "- [Here](https://github.com/scikit-learn/scikit-learn/blob/main/sklearn/linear_model/_base.py) is the official code from sklearn. Just press `ctrl+f` and search for `LinearRegression`.\n",
        "\n",
        "**Create a model instance:-**\n",
        "- Initialize a LinearRegression object.\n",
        "- This represents the linear relationship between the inputs and the target.\n"
      ],
      "metadata": {
        "id": "tM-h_gz-yEYV"
      },
      "id": "tM-h_gz-yEYV"
    },
    {
      "cell_type": "code",
      "source": [
        "from sklearn.linear_model import LinearRegression"
      ],
      "metadata": {
        "id": "35zR0qhudoQV"
      },
      "id": "35zR0qhudoQV",
      "execution_count": null,
      "outputs": []
    },
    {
      "cell_type": "code",
      "source": [
        "sklearn_model = LinearRegression(fit_intercept=True,  # If true include intercept\n",
        "                                 copy_X=True,         # If true reserve a copy of X so that it remains unchanged\n",
        "                                 n_jobs=None,         # If none, single CPU core, no parallelization used\n",
        "                                 positive=False)      # If true, forces the coefficients to be positive"
      ],
      "metadata": {
        "id": "YSouZKZ9dzGy"
      },
      "id": "YSouZKZ9dzGy",
      "execution_count": null,
      "outputs": []
    },
    {
      "cell_type": "markdown",
      "source": [
        "#### Step 3: Training\n",
        "\n",
        "**Fit the model:-**\n",
        "- Use the `fit()` method of the model to train it on your data.\n",
        "- The algorithm learns the coefficients and intercept that define the linear relationship.\n",
        "\n",
        "**Learning process:-**\n",
        "- The algorithm internally uses the least squares optimization method.\n",
        "- It is used to minimize the sum of squared differences between the actual target values and the predicted values."
      ],
      "metadata": {
        "id": "ehaeO8A9zPl4"
      },
      "id": "ehaeO8A9zPl4"
    },
    {
      "cell_type": "code",
      "source": [
        "sklearn_model.fit(X_train, y_train)"
      ],
      "metadata": {
        "id": "iiOX2w3fzvWE"
      },
      "id": "iiOX2w3fzvWE",
      "execution_count": null,
      "outputs": []
    },
    {
      "cell_type": "code",
      "source": [
        "print('Scikit-Learn model:-')\n",
        "print('Optimal Weight = {}'.format(sklearn_model.coef_[0][0]))\n",
        "print('Optimal Bias = {}'.format(sklearn_model.intercept_[0]))\n",
        "\n",
        "print()\n",
        "\n",
        "print('Scratch model:-')\n",
        "print('Optimal Weight = {}'.format(weights[-1]))\n",
        "print('Optimal Bias = {}'.format(biases[-1]))"
      ],
      "metadata": {
        "id": "W6OmdUiCfe7m"
      },
      "id": "W6OmdUiCfe7m",
      "execution_count": null,
      "outputs": []
    },
    {
      "cell_type": "markdown",
      "source": [
        "#### Step 4: Prediction\n",
        "\n",
        "**Make predictions:-**\n",
        "- Once the model is trained, you can use the `predict()` method to make predictions on new data points.\n",
        "- The model applies the learned linear relationship to these inputs."
      ],
      "metadata": {
        "id": "WKoJswlAz37-"
      },
      "id": "WKoJswlAz37-"
    },
    {
      "cell_type": "code",
      "source": [
        "predictions = sklearn_model.predict(X_test)\n",
        "mse_skl = np.mean((y_test - predictions)**2)\n",
        "print(f\"The MSE value of sklearn model:- {round(mse_skl, 5)} (5dp)\")\n",
        "print(f\"The MSE value of scratch model:- {round(mse, 5)} (5dp)\")"
      ],
      "metadata": {
        "id": "xvyW8fice8eg"
      },
      "id": "xvyW8fice8eg",
      "execution_count": null,
      "outputs": []
    },
    {
      "cell_type": "markdown",
      "source": [
        "* Both the Gradient Desecent and Ordinary Least Square Regression methods are performing well!"
      ],
      "metadata": {
        "id": "S_2mJ2KQq2xp"
      },
      "id": "S_2mJ2KQq2xp"
    },
    {
      "cell_type": "code",
      "source": [
        "# Visualise the performance of the test data\n",
        "plt.figure(figsize = (10,5))\n",
        "plt.plot(X_test, prediction, color=\"k\", label=\"predicted\", linewidth = 0.7)\n",
        "plt.plot(X_test, predictions,  \"g--\", label=\"predicted\", linewidth = 0.7)\n",
        "plt.scatter(X_test, y_test, color=\"c\", label=\"original\", marker = 'x', s = 20, zorder = 2)\n",
        "plt.title(f\"Visulaising the performance on the test data\", color = 'red')\n",
        "plt.xlabel(\"Test Inputs\", color = 'm', fontsize = 11)\n",
        "plt.ylabel(\"Star Property\", color = 'm', fontsize = 11)\n",
        "plt.legend(['Scratch Model', 'Scikit-Learn Model', 'True Values', ], loc = 'lower right')\n",
        "plt.show()"
      ],
      "metadata": {
        "id": "7Z521_QjhK2M"
      },
      "id": "7Z521_QjhK2M",
      "execution_count": null,
      "outputs": []
    },
    {
      "cell_type": "markdown",
      "source": [
        "* Just look at how similar predictions we are getting!\n",
        "* Now that you have learnt gradient descent algorithm, it will be very useful in some of the upcoming lectures."
      ],
      "metadata": {
        "id": "wCBTnxRcq_6H"
      },
      "id": "wCBTnxRcq_6H"
    },
    {
      "cell_type": "markdown",
      "source": [
        "### Ending Notes\n",
        "- Remember, while Linear Regression is powerful, it's just the beginning.\n",
        "- Machine learning offers a vast array of algorithms for different tasks, each with its strengths and weaknesses.\n",
        "- We shall dive deeper into this exciting field to explore more advanced techniques in the upcoming days."
      ],
      "metadata": {
        "id": "qaqHdMI31KdC"
      },
      "id": "qaqHdMI31KdC"
    },
    {
      "cell_type": "markdown",
      "source": [
        "---"
      ],
      "metadata": {
        "id": "ILDZ0rPTaEJb"
      },
      "id": "ILDZ0rPTaEJb"
    }
  ]
}